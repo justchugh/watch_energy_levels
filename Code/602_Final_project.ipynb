{
 "cells": [
  {
   "cell_type": "code",
   "execution_count": null,
   "id": "99fafcc5",
   "metadata": {},
   "outputs": [],
   "source": [
    "# Model Selection"
   ]
  },
  {
   "cell_type": "code",
   "execution_count": null,
   "id": "38153616",
   "metadata": {},
   "outputs": [],
   "source": [
    "# Load the clustered data"
   ]
  },
  {
   "cell_type": "code",
   "execution_count": null,
   "id": "2d5312de",
   "metadata": {},
   "outputs": [],
   "source": [
    "file_path = 'clustered_data.csv'"
   ]
  },
  {
   "cell_type": "code",
   "execution_count": null,
   "id": "0591fc85",
   "metadata": {},
   "outputs": [],
   "source": [
    "df = pd.read_csv(file_path)"
   ]
  },
  {
   "cell_type": "code",
   "execution_count": null,
   "id": "4978cff6",
   "metadata": {},
   "outputs": [],
   "source": []
  },
  {
   "cell_type": "code",
   "execution_count": null,
   "id": "9f2c148a",
   "metadata": {},
   "outputs": [],
   "source": [
    "# Define features and target"
   ]
  },
  {
   "cell_type": "code",
   "execution_count": null,
   "id": "bcd1d6ce",
   "metadata": {},
   "outputs": [],
   "source": [
    "features = ['Principal Component 1', 'Principal Component 2', 'Principal Component 3', 'Principal Component 4']"
   ]
  },
  {
   "cell_type": "code",
   "execution_count": null,
   "id": "1697645c",
   "metadata": {},
   "outputs": [],
   "source": [
    "target = 'energy_level'"
   ]
  },
  {
   "cell_type": "code",
   "execution_count": null,
   "id": "c17d532a",
   "metadata": {},
   "outputs": [],
   "source": []
  },
  {
   "cell_type": "code",
   "execution_count": null,
   "id": "af058986",
   "metadata": {},
   "outputs": [],
   "source": [
    "X = df[features]"
   ]
  },
  {
   "cell_type": "code",
   "execution_count": null,
   "id": "2ecdbad3",
   "metadata": {},
   "outputs": [],
   "source": [
    "y = df[target]"
   ]
  },
  {
   "cell_type": "code",
   "execution_count": null,
   "id": "8935a471",
   "metadata": {},
   "outputs": [],
   "source": []
  },
  {
   "cell_type": "code",
   "execution_count": null,
   "id": "d6c6d527",
   "metadata": {},
   "outputs": [],
   "source": [
    "# Split the data"
   ]
  },
  {
   "cell_type": "code",
   "execution_count": null,
   "id": "03c085fd",
   "metadata": {},
   "outputs": [],
   "source": [
    "X_train, X_test, y_train, y_test = train_test_split(X, y, test_size=0.2, random_state=42)"
   ]
  },
  {
   "cell_type": "code",
   "execution_count": null,
   "id": "233fba00",
   "metadata": {},
   "outputs": [],
   "source": [
    "# Function to evaluate models"
   ]
  },
  {
   "cell_type": "code",
   "execution_count": null,
   "id": "09962dcd",
   "metadata": {},
   "outputs": [],
   "source": [
    "def evaluate_model(model, X_train, X_test, y_train, y_test):"
   ]
  },
  {
   "cell_type": "code",
   "execution_count": null,
   "id": "61dcedd9",
   "metadata": {},
   "outputs": [],
   "source": [
    "    model.fit(X_train, y_train)"
   ]
  },
  {
   "cell_type": "code",
   "execution_count": null,
   "id": "0da860dd",
   "metadata": {},
   "outputs": [],
   "source": [
    "    y_pred = model.predict(X_test)"
   ]
  },
  {
   "cell_type": "code",
   "execution_count": null,
   "id": "83815cc6",
   "metadata": {},
   "outputs": [],
   "source": [
    "    mae = mean_absolute_error(y_test, y_pred)"
   ]
  },
  {
   "cell_type": "code",
   "execution_count": null,
   "id": "62006531",
   "metadata": {},
   "outputs": [],
   "source": [
    "    mse = mean_squared_error(y_test, y_pred)"
   ]
  },
  {
   "cell_type": "code",
   "execution_count": null,
   "id": "0b2f0516",
   "metadata": {},
   "outputs": [],
   "source": [
    "    r2 = r2_score(y_test, y_pred)"
   ]
  },
  {
   "cell_type": "code",
   "execution_count": null,
   "id": "a59f8d1c",
   "metadata": {},
   "outputs": [],
   "source": [
    "    return {'MAE': mae, 'MSE': mse, 'R2': r2}"
   ]
  },
  {
   "cell_type": "code",
   "execution_count": null,
   "id": "6fa6342d",
   "metadata": {},
   "outputs": [],
   "source": [
    "## Evaluate Models"
   ]
  },
  {
   "cell_type": "code",
   "execution_count": null,
   "id": "174d3843",
   "metadata": {},
   "outputs": [],
   "source": [
    "# Models to evaluate"
   ]
  },
  {
   "cell_type": "code",
   "execution_count": null,
   "id": "03024e0d",
   "metadata": {},
   "outputs": [],
   "source": [
    "models = {"
   ]
  },
  {
   "cell_type": "code",
   "execution_count": null,
   "id": "6f151ebb",
   "metadata": {},
   "outputs": [],
   "source": [
    "    'Random Forest': RandomForestRegressor(n_estimators=100, random_state=42),"
   ]
  },
  {
   "cell_type": "code",
   "execution_count": null,
   "id": "9a4529d8",
   "metadata": {},
   "outputs": [],
   "source": [
    "    'Gradient Boosting': GradientBoostingRegressor(n_estimators=100, random_state=42),"
   ]
  },
  {
   "cell_type": "code",
   "execution_count": null,
   "id": "1a11db12",
   "metadata": {},
   "outputs": [],
   "source": [
    "    'Neural Network': MLPRegressor(hidden_layer_sizes=(50, 50), max_iter=500, random_state=42)"
   ]
  },
  {
   "cell_type": "code",
   "execution_count": null,
   "id": "54dfcdde",
   "metadata": {},
   "outputs": [],
   "source": [
    "}"
   ]
  },
  {
   "cell_type": "code",
   "execution_count": null,
   "id": "eff85b39",
   "metadata": {},
   "outputs": [],
   "source": [
    "results = {}"
   ]
  },
  {
   "cell_type": "code",
   "execution_count": null,
   "id": "26b3b6de",
   "metadata": {},
   "outputs": [],
   "source": [
    "for name, model in models.items():"
   ]
  },
  {
   "cell_type": "code",
   "execution_count": null,
   "id": "5b9daf2d",
   "metadata": {},
   "outputs": [],
   "source": [
    "    results[name] = evaluate_model(model, X_train, X_test, y_train, y_test)"
   ]
  },
  {
   "cell_type": "code",
   "execution_count": null,
   "id": "44f5d835",
   "metadata": {},
   "outputs": [],
   "source": [
    "    print(f\"{name} - MAE: {results[name]['MAE']}, MSE: {results[name]['MSE']}, R2: {results[name]['R2']}\")"
   ]
  },
  {
   "cell_type": "code",
   "execution_count": null,
   "id": "e97bcbd2",
   "metadata": {},
   "outputs": [],
   "source": [
    "# Cross-validation"
   ]
  },
  {
   "cell_type": "code",
   "execution_count": null,
   "id": "2e8eba1e",
   "metadata": {},
   "outputs": [],
   "source": [
    "for name, model in models.items():"
   ]
  },
  {
   "cell_type": "code",
   "execution_count": null,
   "id": "7eb72414",
   "metadata": {},
   "outputs": [],
   "source": [
    "    cv_scores = cross_val_score(model, X, y, cv=5, scoring='r2')"
   ]
  },
  {
   "cell_type": "code",
   "execution_count": null,
   "id": "f69d0d26",
   "metadata": {},
   "outputs": [],
   "source": [
    "    print(f\"{name} - Cross-Validated R-squared: {cv_scores.mean()}\")"
   ]
  },
  {
   "cell_type": "code",
   "execution_count": null,
   "id": "24823121",
   "metadata": {},
   "outputs": [],
   "source": [
    "# Save the results"
   ]
  },
  {
   "cell_type": "code",
   "execution_count": null,
   "id": "1f68bcfa",
   "metadata": {},
   "outputs": [],
   "source": [
    "results_df = pd.DataFrame(results).T"
   ]
  },
  {
   "cell_type": "code",
   "execution_count": null,
   "id": "b175bc51",
   "metadata": {},
   "outputs": [],
   "source": [
    "results_df.to_csv('model_evaluation_results.csv')"
   ]
  },
  {
   "cell_type": "code",
   "execution_count": null,
   "id": "d4a23079",
   "metadata": {},
   "outputs": [],
   "source": [
    "print(\"Model evaluation results saved to 'model_evaluation_results.csv'\")"
   ]
  },
  {
   "cell_type": "code",
   "execution_count": null,
   "id": "47473b99",
   "metadata": {},
   "outputs": [],
   "source": []
  },
  {
   "cell_type": "code",
   "execution_count": null,
   "id": "e2d27d89",
   "metadata": {},
   "outputs": [],
   "source": []
  },
  {
   "cell_type": "code",
   "execution_count": null,
   "id": "a13b9f60",
   "metadata": {},
   "outputs": [],
   "source": [
    "## Trying extra Trees Regressor"
   ]
  },
  {
   "cell_type": "code",
   "execution_count": null,
   "id": "d2c252c8",
   "metadata": {},
   "outputs": [],
   "source": [
    "from sklearn.preprocessing import StandardScaler"
   ]
  },
  {
   "cell_type": "code",
   "execution_count": null,
   "id": "b1d40d8a",
   "metadata": {},
   "outputs": [],
   "source": [
    "from sklearn.ensemble import ExtraTreesRegressor"
   ]
  },
  {
   "cell_type": "code",
   "execution_count": null,
   "id": "3f1bab0a",
   "metadata": {},
   "outputs": [],
   "source": [
    "import numpy as np"
   ]
  },
  {
   "cell_type": "code",
   "execution_count": null,
   "id": "b3b817d9",
   "metadata": {},
   "outputs": [],
   "source": [
    "from sklearn.metrics import mean_absolute_error, mean_squared_error, r2_score"
   ]
  },
  {
   "cell_type": "code",
   "execution_count": null,
   "id": "f47a4235",
   "metadata": {},
   "outputs": [],
   "source": []
  },
  {
   "cell_type": "code",
   "execution_count": null,
   "id": "95ad8818",
   "metadata": {},
   "outputs": [],
   "source": [
    "# Assuming you want to scale the target variable"
   ]
  },
  {
   "cell_type": "code",
   "execution_count": null,
   "id": "9c327227",
   "metadata": {},
   "outputs": [],
   "source": [
    "scaler_y = StandardScaler()"
   ]
  },
  {
   "cell_type": "code",
   "execution_count": null,
   "id": "d41a395c",
   "metadata": {},
   "outputs": [],
   "source": [
    "y_train_scaled = scaler_y.fit_transform(y_train.reshape(-1, 1)).flatten()"
   ]
  },
  {
   "cell_type": "code",
   "execution_count": null,
   "id": "01bbaf7c",
   "metadata": {},
   "outputs": [],
   "source": [
    "y_test_scaled = scaler_y.transform(y_test.reshape(-1, 1)).flatten()"
   ]
  },
  {
   "cell_type": "code",
   "execution_count": null,
   "id": "ae996314",
   "metadata": {},
   "outputs": [],
   "source": []
  },
  {
   "cell_type": "code",
   "execution_count": null,
   "id": "2f585f96",
   "metadata": {},
   "outputs": [],
   "source": [
    "def evaluate_model(model, X_train, X_test, y_train_scaled, y_test_scaled, scaler_y=None):"
   ]
  },
  {
   "cell_type": "code",
   "execution_count": null,
   "id": "6ebcbe5d",
   "metadata": {},
   "outputs": [],
   "source": [
    "    model.fit(X_train, y_train_scaled)"
   ]
  },
  {
   "cell_type": "code",
   "execution_count": null,
   "id": "7dde7c25",
   "metadata": {},
   "outputs": [],
   "source": [
    "    y_pred_scaled = model.predict(X_test)"
   ]
  },
  {
   "cell_type": "code",
   "execution_count": null,
   "id": "3b4c2281",
   "metadata": {},
   "outputs": [],
   "source": [
    "    if scaler_y:"
   ]
  },
  {
   "cell_type": "code",
   "execution_count": null,
   "id": "8fb73c18",
   "metadata": {},
   "outputs": [],
   "source": [
    "        y_pred = scaler_y.inverse_transform(y_pred_scaled.reshape(-1, 1)).flatten()"
   ]
  },
  {
   "cell_type": "code",
   "execution_count": null,
   "id": "e6073619",
   "metadata": {},
   "outputs": [],
   "source": [
    "    else:"
   ]
  },
  {
   "cell_type": "code",
   "execution_count": null,
   "id": "26c3cb13",
   "metadata": {},
   "outputs": [],
   "source": [
    "        y_pred = y_pred_scaled"
   ]
  },
  {
   "cell_type": "code",
   "execution_count": null,
   "id": "57699868",
   "metadata": {},
   "outputs": [],
   "source": [
    "    mae = mean_absolute_error(y_test, y_pred)"
   ]
  },
  {
   "cell_type": "code",
   "execution_count": null,
   "id": "9736a98f",
   "metadata": {},
   "outputs": [],
   "source": [
    "    mse = mean_squared_error(y_test, y_pred)"
   ]
  },
  {
   "cell_type": "code",
   "execution_count": null,
   "id": "1534f20b",
   "metadata": {},
   "outputs": [],
   "source": [
    "    r2 = r2_score(y_test, y_pred)"
   ]
  },
  {
   "cell_type": "code",
   "execution_count": null,
   "id": "f2cc9424",
   "metadata": {},
   "outputs": [],
   "source": [
    "    return mae, mse, r2"
   ]
  },
  {
   "cell_type": "code",
   "execution_count": null,
   "id": "3ed965de",
   "metadata": {},
   "outputs": [],
   "source": []
  },
  {
   "cell_type": "code",
   "execution_count": null,
   "id": "52d6d084",
   "metadata": {},
   "outputs": [],
   "source": [
    "# Usage with Extra Trees Regressor"
   ]
  },
  {
   "cell_type": "code",
   "execution_count": null,
   "id": "9aca4fc2",
   "metadata": {},
   "outputs": [],
   "source": [
    "et_model = ExtraTreesRegressor(n_estimators=100, random_state=42)"
   ]
  },
  {
   "cell_type": "code",
   "execution_count": null,
   "id": "184e61fb",
   "metadata": {},
   "outputs": [],
   "source": [
    "mae, mse, r2 = evaluate_model(et_model, X_train, X_test, y_train_scaled, y_test_scaled, scaler_y)"
   ]
  },
  {
   "cell_type": "code",
   "execution_count": null,
   "id": "8c4fafbf",
   "metadata": {},
   "outputs": [],
   "source": [
    "print(f\"Extra Trees - MAE: {mae}, MSE: {mse}, R2: {r2}\")"
   ]
  },
  {
   "cell_type": "code",
   "execution_count": null,
   "id": "05f22654",
   "metadata": {},
   "outputs": [],
   "source": []
  },
  {
   "cell_type": "code",
   "execution_count": null,
   "id": "c0d46921",
   "metadata": {},
   "outputs": [],
   "source": [
    "## Bagging Regressor"
   ]
  },
  {
   "cell_type": "code",
   "execution_count": null,
   "id": "2de28cbc",
   "metadata": {},
   "outputs": [],
   "source": [
    "from sklearn.ensemble import BaggingRegressor"
   ]
  },
  {
   "cell_type": "code",
   "execution_count": null,
   "id": "89d0c3c7",
   "metadata": {},
   "outputs": [],
   "source": []
  },
  {
   "cell_type": "code",
   "execution_count": null,
   "id": "a56f865d",
   "metadata": {},
   "outputs": [],
   "source": [
    "bg_model = BaggingRegressor(base_estimator=RandomForestRegressor(n_estimators=10, random_state=42), n_estimators=10, random_state=42)"
   ]
  },
  {
   "cell_type": "code",
   "execution_count": null,
   "id": "ad34551b",
   "metadata": {},
   "outputs": [],
   "source": [
    "mae, mse, r2 = evaluate_model(bg_model, X_train, X_test, y_train, y_test)"
   ]
  },
  {
   "cell_type": "code",
   "execution_count": null,
   "id": "cd2f2f5d",
   "metadata": {},
   "outputs": [],
   "source": [
    "print(f\"Bagging Regressor - MAE: {mae}, MSE: {mse}, R2: {r2}\")"
   ]
  },
  {
   "cell_type": "code",
   "execution_count": null,
   "id": "f5ea79d1",
   "metadata": {},
   "outputs": [],
   "source": []
  },
  {
   "cell_type": "code",
   "execution_count": null,
   "id": "bbe94382",
   "metadata": {},
   "outputs": [],
   "source": [
    "# Cross-validation for Bagging Regressor"
   ]
  },
  {
   "cell_type": "code",
   "execution_count": null,
   "id": "4e738c6b",
   "metadata": {},
   "outputs": [],
   "source": [
    "bg_cv_scores = cross_val_score(bg_model, X, y, cv=5, scoring='r2')"
   ]
  },
  {
   "cell_type": "code",
   "execution_count": null,
   "id": "071abf17",
   "metadata": {},
   "outputs": [],
   "source": [
    "print(f\"Bagging Regressor - Cross-Validated R-squared: {bg_cv_scores.mean()}\")"
   ]
  },
  {
   "cell_type": "code",
   "execution_count": null,
   "id": "cc43e2fa",
   "metadata": {},
   "outputs": [],
   "source": [
    "# Model Evaluation"
   ]
  },
  {
   "cell_type": "code",
   "execution_count": null,
   "id": "66a238fb",
   "metadata": {},
   "outputs": [],
   "source": [
    "import numpy as np"
   ]
  },
  {
   "cell_type": "code",
   "execution_count": null,
   "id": "f675c331",
   "metadata": {},
   "outputs": [],
   "source": [
    "rmse = np.sqrt(mean_squared_error(y_test, y_pred))"
   ]
  },
  {
   "cell_type": "code",
   "execution_count": null,
   "id": "90b7d253",
   "metadata": {},
   "outputs": [],
   "source": [
    "mape = np.mean(np.abs((y_test - y_pred) / y_test)) * 100"
   ]
  },
  {
   "cell_type": "code",
   "execution_count": null,
   "id": "208db473",
   "metadata": {},
   "outputs": [],
   "source": [
    "import matplotlib.pyplot as plt"
   ]
  },
  {
   "cell_type": "code",
   "execution_count": null,
   "id": "f411e017",
   "metadata": {},
   "outputs": [],
   "source": [
    "residuals = y_test - y_pred"
   ]
  },
  {
   "cell_type": "code",
   "execution_count": null,
   "id": "c3687660",
   "metadata": {},
   "outputs": [],
   "source": [
    "plt.scatter(y_test, residuals)"
   ]
  },
  {
   "cell_type": "code",
   "execution_count": null,
   "id": "6354b6c9",
   "metadata": {},
   "outputs": [],
   "source": [
    "plt.hlines(y=0, xmin=y_test.min(), xmax=y_test.max(), colors='red')"
   ]
  },
  {
   "cell_type": "code",
   "execution_count": null,
   "id": "bcce2a81",
   "metadata": {},
   "outputs": [],
   "source": [
    "plt.xlabel('Actual Values')"
   ]
  },
  {
   "cell_type": "code",
   "execution_count": null,
   "id": "5899db2c",
   "metadata": {},
   "outputs": [],
   "source": [
    "plt.ylabel('Residuals')"
   ]
  },
  {
   "cell_type": "code",
   "execution_count": null,
   "id": "8be73c71",
   "metadata": {},
   "outputs": [],
   "source": [
    "plt.title('Residual Plot')"
   ]
  },
  {
   "cell_type": "code",
   "execution_count": null,
   "id": "51b9407f",
   "metadata": {},
   "outputs": [],
   "source": [
    "plt.show()"
   ]
  },
  {
   "cell_type": "code",
   "execution_count": null,
   "id": "e4b6f4e1",
   "metadata": {},
   "outputs": [],
   "source": [
    "Residual plot demonstrating a relatively even distribution of residuals around zero across the range of actual values, suggesting a good fit for a linear regression model."
   ]
  },
  {
   "cell_type": "code",
   "execution_count": null,
   "id": "d75f87fd",
   "metadata": {},
   "outputs": [],
   "source": []
  },
  {
   "cell_type": "code",
   "execution_count": null,
   "id": "144f4776",
   "metadata": {},
   "outputs": [],
   "source": [
    "# Conclusion"
   ]
  },
  {
   "cell_type": "code",
   "execution_count": null,
   "id": "093c74cc",
   "metadata": {},
   "outputs": [],
   "source": [
    "**Key Takeaways and Future Directions:**"
   ]
  },
  {
   "cell_type": "code",
   "execution_count": null,
   "id": "cfba2634",
   "metadata": {},
   "outputs": [],
   "source": []
  },
  {
   "cell_type": "code",
   "execution_count": null,
   "id": "2f9bce4f",
   "metadata": {},
   "outputs": [],
   "source": [
    "* **Successful prediction of individual energy levels:** Leveraging wearable data and machine learning models (especially Random Forest), we achieved accurate predictions of energy levels (1-10)."
   ]
  },
  {
   "cell_type": "code",
   "execution_count": null,
   "id": "4323bd0b",
   "metadata": {},
   "outputs": [],
   "source": [
    "* **Deepened understanding of energy dynamics:** This research unveils the intricate link between physical activity and energy fluctuations, informing personalized wellness strategies."
   ]
  },
  {
   "cell_type": "code",
   "execution_count": null,
   "id": "a13ef2e3",
   "metadata": {},
   "outputs": [],
   "source": [
    "* **Real-world applications:** The insights gained pave the way for innovative solutions in:"
   ]
  },
  {
   "cell_type": "code",
   "execution_count": null,
   "id": "bdb77d7d",
   "metadata": {},
   "outputs": [],
   "source": [
    "    * **Personalized virtual fitness coaching:** Tailored workouts based on real-time energy levels."
   ]
  },
  {
   "cell_type": "code",
   "execution_count": null,
   "id": "f6114868",
   "metadata": {},
   "outputs": [],
   "source": [
    "    * **Nutrition tracking and analysis:** Dynamic meal plans aligned with energy peaks and troughs."
   ]
  },
  {
   "cell_type": "code",
   "execution_count": null,
   "id": "f771aeb4",
   "metadata": {},
   "outputs": [],
   "source": [
    "    * **Mental health monitoring:** Proactive interventions based on detected energy dips."
   ]
  },
  {
   "cell_type": "code",
   "execution_count": null,
   "id": "0e1f66bc",
   "metadata": {},
   "outputs": [],
   "source": [
    "    * **Sleep quality improvement:** Personalized recommendations for optimal sleep patterns."
   ]
  },
  {
   "cell_type": "code",
   "execution_count": null,
   "id": "be0b8f87",
   "metadata": {},
   "outputs": [],
   "source": [
    "    * **Medication adherence:** Timely reminders and adjustments based on energy fluctuations."
   ]
  },
  {
   "cell_type": "code",
   "execution_count": null,
   "id": "480af185",
   "metadata": {},
   "outputs": [],
   "source": [
    "    * **Elderly care monitoring:** Proactive health management through energy pattern analysis."
   ]
  },
  {
   "cell_type": "code",
   "execution_count": null,
   "id": "b0defaa1",
   "metadata": {},
   "outputs": [],
   "source": [
    "    * **Corporate wellness programs:** Engaging employees with personalized energy optimization strategies."
   ]
  },
  {
   "cell_type": "code",
   "execution_count": null,
   "id": "1b6458b3",
   "metadata": {},
   "outputs": [],
   "source": [
    "    * **Chronic disease management:** Tailored care plans adapting to individual energy patterns."
   ]
  },
  {
   "cell_type": "code",
   "execution_count": null,
   "id": "6521ec10",
   "metadata": {},
   "outputs": [],
   "source": [
    "    * **Pregnancy wellness:** Supporting healthy pregnancies with personalized energy management."
   ]
  }
 ],
 "metadata": {},
 "nbformat": 4,
 "nbformat_minor": 5
}
