{
 "cells": [
  {
   "cell_type": "code",
   "execution_count": null,
   "id": "5831a251",
   "metadata": {},
   "outputs": [],
   "source": [
    "# Mounting"
   ]
  },
  {
   "cell_type": "code",
   "execution_count": null,
   "id": "24f72849",
   "metadata": {},
   "outputs": [],
   "source": [
    "from google.colab import drive"
   ]
  },
  {
   "cell_type": "code",
   "execution_count": null,
   "id": "37e74a46",
   "metadata": {},
   "outputs": [],
   "source": [
    "drive.mount('/content/drive')"
   ]
  },
  {
   "cell_type": "code",
   "execution_count": null,
   "id": "3dcb6272",
   "metadata": {},
   "outputs": [],
   "source": [
    "%cd /content/drive/MyDrive/602/3"
   ]
  },
  {
   "cell_type": "code",
   "execution_count": null,
   "id": "03feb45c",
   "metadata": {},
   "outputs": [],
   "source": []
  },
  {
   "cell_type": "code",
   "execution_count": null,
   "id": "6695fe8d",
   "metadata": {},
   "outputs": [],
   "source": [
    "# Importing Libraries"
   ]
  },
  {
   "cell_type": "code",
   "execution_count": null,
   "id": "db8ecc8f",
   "metadata": {},
   "outputs": [],
   "source": [
    "import pandas as pd"
   ]
  },
  {
   "cell_type": "code",
   "execution_count": null,
   "id": "3a02a20b",
   "metadata": {},
   "outputs": [],
   "source": [
    "import numpy as np"
   ]
  },
  {
   "cell_type": "code",
   "execution_count": null,
   "id": "735cd6e8",
   "metadata": {},
   "outputs": [],
   "source": [
    "import matplotlib.pyplot as plt"
   ]
  },
  {
   "cell_type": "code",
   "execution_count": null,
   "id": "ccdab865",
   "metadata": {},
   "outputs": [],
   "source": [
    "import seaborn as sns"
   ]
  },
  {
   "cell_type": "code",
   "execution_count": null,
   "id": "45c3ccc2",
   "metadata": {},
   "outputs": [],
   "source": [
    "from sklearn.impute import KNNImputer"
   ]
  },
  {
   "cell_type": "code",
   "execution_count": null,
   "id": "c21f86f2",
   "metadata": {},
   "outputs": [],
   "source": [
    "from sklearn.ensemble import IsolationForest"
   ]
  },
  {
   "cell_type": "code",
   "execution_count": null,
   "id": "e39fe55b",
   "metadata": {},
   "outputs": [],
   "source": [
    "from sklearn.preprocessing import RobustScaler, StandardScaler"
   ]
  },
  {
   "cell_type": "code",
   "execution_count": null,
   "id": "d7d2a98e",
   "metadata": {},
   "outputs": [],
   "source": [
    "from sklearn.linear_model import LinearRegression"
   ]
  },
  {
   "cell_type": "code",
   "execution_count": null,
   "id": "6bc2c2b2",
   "metadata": {},
   "outputs": [],
   "source": [
    "from sklearn.decomposition import PCA"
   ]
  },
  {
   "cell_type": "code",
   "execution_count": null,
   "id": "1894b160",
   "metadata": {},
   "outputs": [],
   "source": [
    "from sklearn.cluster import KMeans"
   ]
  },
  {
   "cell_type": "code",
   "execution_count": null,
   "id": "fb5b2dd8",
   "metadata": {},
   "outputs": [],
   "source": [
    "from sklearn.model_selection import train_test_split, cross_val_score"
   ]
  },
  {
   "cell_type": "code",
   "execution_count": null,
   "id": "9bebc7c6",
   "metadata": {},
   "outputs": [],
   "source": [
    "from sklearn.ensemble import RandomForestRegressor, GradientBoostingRegressor"
   ]
  },
  {
   "cell_type": "code",
   "execution_count": null,
   "id": "2733f2b0",
   "metadata": {},
   "outputs": [],
   "source": [
    "from sklearn.metrics import mean_absolute_error, mean_squared_error, r2_score"
   ]
  },
  {
   "cell_type": "code",
   "execution_count": null,
   "id": "e2fa8c3a",
   "metadata": {},
   "outputs": [],
   "source": [
    "from sklearn.neural_network import MLPRegressor"
   ]
  },
  {
   "cell_type": "code",
   "execution_count": null,
   "id": "dc823e3c",
   "metadata": {},
   "outputs": [],
   "source": []
  },
  {
   "cell_type": "code",
   "execution_count": null,
   "id": "1eb68bf9",
   "metadata": {},
   "outputs": [],
   "source": [
    "file_path = 'apple_watch_data.csv'"
   ]
  },
  {
   "cell_type": "code",
   "execution_count": null,
   "id": "09438f6c",
   "metadata": {},
   "outputs": [],
   "source": [
    "df = pd.read_csv(file_path)"
   ]
  },
  {
   "cell_type": "code",
   "execution_count": null,
   "id": "3f6f37f1",
   "metadata": {},
   "outputs": [],
   "source": []
  },
  {
   "cell_type": "code",
   "execution_count": null,
   "id": "cb50e4c4",
   "metadata": {},
   "outputs": [],
   "source": [
    "# Understanding Data"
   ]
  },
  {
   "cell_type": "code",
   "execution_count": null,
   "id": "ce064705",
   "metadata": {},
   "outputs": [],
   "source": [
    "df.head(5)"
   ]
  },
  {
   "cell_type": "code",
   "execution_count": null,
   "id": "dd000f48",
   "metadata": {},
   "outputs": [],
   "source": [
    "print(\"Dataset Head:\")"
   ]
  },
  {
   "cell_type": "code",
   "execution_count": null,
   "id": "f44409aa",
   "metadata": {},
   "outputs": [],
   "source": [
    "print(df.head())"
   ]
  },
  {
   "cell_type": "code",
   "execution_count": null,
   "id": "563e2a69",
   "metadata": {},
   "outputs": [],
   "source": [
    "print(\"\\nDataset Info:\")"
   ]
  },
  {
   "cell_type": "code",
   "execution_count": null,
   "id": "3c46a7ea",
   "metadata": {},
   "outputs": [],
   "source": [
    "print(df.info())"
   ]
  },
  {
   "cell_type": "code",
   "execution_count": null,
   "id": "e0b880b6",
   "metadata": {},
   "outputs": [],
   "source": [
    "print(\"\\nDescriptive Statistics:\")"
   ]
  },
  {
   "cell_type": "code",
   "execution_count": null,
   "id": "b9226969",
   "metadata": {},
   "outputs": [],
   "source": [
    "print(df.describe())"
   ]
  },
  {
   "cell_type": "code",
   "execution_count": null,
   "id": "29883a8d",
   "metadata": {},
   "outputs": [],
   "source": [
    "print(\"\\nMissing Values Initially:\")"
   ]
  },
  {
   "cell_type": "code",
   "execution_count": null,
   "id": "388a1475",
   "metadata": {},
   "outputs": [],
   "source": [
    "print(df.isnull().sum())"
   ]
  },
  {
   "cell_type": "code",
   "execution_count": null,
   "id": "e0bf5592",
   "metadata": {},
   "outputs": [],
   "source": []
  },
  {
   "cell_type": "code",
   "execution_count": null,
   "id": "15b34aa3",
   "metadata": {},
   "outputs": [],
   "source": [
    "# Cleaning Missing Values"
   ]
  },
  {
   "cell_type": "code",
   "execution_count": null,
   "id": "c812e449",
   "metadata": {},
   "outputs": [],
   "source": [
    "df = df.rename(columns={"
   ]
  },
  {
   "cell_type": "code",
   "execution_count": null,
   "id": "45176ce4",
   "metadata": {},
   "outputs": [],
   "source": [
    "    'hear_rate': 'heart_rate',"
   ]
  },
  {
   "cell_type": "code",
   "execution_count": null,
   "id": "abf3bc51",
   "metadata": {},
   "outputs": [],
   "source": [
    "    'entropy_setps': 'entropy_steps'"
   ]
  },
  {
   "cell_type": "code",
   "execution_count": null,
   "id": "d9c71ebc",
   "metadata": {},
   "outputs": [],
   "source": [
    "})"
   ]
  },
  {
   "cell_type": "code",
   "execution_count": null,
   "id": "34f1cb0b",
   "metadata": {},
   "outputs": [],
   "source": [
    "knn_imputer = KNNImputer(n_neighbors=5)"
   ]
  },
  {
   "cell_type": "code",
   "execution_count": null,
   "id": "170bd0e8",
   "metadata": {},
   "outputs": [],
   "source": [
    "df[['steps', 'calories', 'distance']] = knn_imputer.fit_transform(df[['steps', 'calories', 'distance']])"
   ]
  },
  {
   "cell_type": "code",
   "execution_count": null,
   "id": "bc0cccc5",
   "metadata": {},
   "outputs": [],
   "source": [
    "df['heart_rate'] = df['heart_rate'].fillna(method='ffill')"
   ]
  },
  {
   "cell_type": "code",
   "execution_count": null,
   "id": "0a88aef2",
   "metadata": {},
   "outputs": [],
   "source": [
    "print(\"\\nMissing Values After Cleaning:\")"
   ]
  },
  {
   "cell_type": "code",
   "execution_count": null,
   "id": "4dd4b641",
   "metadata": {},
   "outputs": [],
   "source": [
    "print(df.isnull().sum())"
   ]
  },
  {
   "cell_type": "code",
   "execution_count": null,
   "id": "fd326c27",
   "metadata": {},
   "outputs": [],
   "source": []
  },
  {
   "cell_type": "code",
   "execution_count": null,
   "id": "f0eb9351",
   "metadata": {},
   "outputs": [],
   "source": [
    "# Handling Outliers and Invalid Entries"
   ]
  },
  {
   "cell_type": "code",
   "execution_count": null,
   "id": "9b5dd0ea",
   "metadata": {},
   "outputs": [],
   "source": [
    "df['heart_rate'] = pd.to_numeric(df['heart_rate'], errors='coerce')"
   ]
  },
  {
   "cell_type": "code",
   "execution_count": null,
   "id": "b6741c4c",
   "metadata": {},
   "outputs": [],
   "source": [
    "df.dropna(subset=['heart_rate', 'steps', 'calories', 'distance'], inplace=True)"
   ]
  },
  {
   "cell_type": "code",
   "execution_count": null,
   "id": "055d12ea",
   "metadata": {},
   "outputs": [],
   "source": [
    "scaler = RobustScaler()"
   ]
  },
  {
   "cell_type": "code",
   "execution_count": null,
   "id": "94f39041",
   "metadata": {},
   "outputs": [],
   "source": [
    "scaled_columns = ['heart_rate', 'steps', 'calories', 'distance']"
   ]
  },
  {
   "cell_type": "code",
   "execution_count": null,
   "id": "bc3f1262",
   "metadata": {},
   "outputs": [],
   "source": [
    "df_scaled = scaler.fit_transform(df[scaled_columns])"
   ]
  },
  {
   "cell_type": "code",
   "execution_count": null,
   "id": "7ec86c8f",
   "metadata": {},
   "outputs": [],
   "source": [
    "df_scaled = pd.DataFrame(df_scaled, columns=scaled_columns)"
   ]
  },
  {
   "cell_type": "code",
   "execution_count": null,
   "id": "06f4ec79",
   "metadata": {},
   "outputs": [],
   "source": []
  },
  {
   "cell_type": "code",
   "execution_count": null,
   "id": "e61f2c0c",
   "metadata": {},
   "outputs": [],
   "source": [
    "iso_forest = IsolationForest(n_estimators=100, contamination=0.05)"
   ]
  },
  {
   "cell_type": "code",
   "execution_count": null,
   "id": "3b0c5633",
   "metadata": {},
   "outputs": [],
   "source": [
    "outliers = iso_forest.fit_predict(df_scaled)"
   ]
  },
  {
   "cell_type": "code",
   "execution_count": null,
   "id": "0b61929e",
   "metadata": {},
   "outputs": [],
   "source": [
    "df['outlier'] = outliers"
   ]
  },
  {
   "cell_type": "code",
   "execution_count": null,
   "id": "529d0b48",
   "metadata": {},
   "outputs": [],
   "source": [
    "df_cleaned = df[df['outlier'] != -1]"
   ]
  },
  {
   "cell_type": "code",
   "execution_count": null,
   "id": "cb658987",
   "metadata": {},
   "outputs": [],
   "source": []
  },
  {
   "cell_type": "code",
   "execution_count": null,
   "id": "803cc64a",
   "metadata": {},
   "outputs": [],
   "source": [
    "# Visualizing Data"
   ]
  },
  {
   "cell_type": "code",
   "execution_count": null,
   "id": "ea85cc15",
   "metadata": {},
   "outputs": [],
   "source": [
    "fig, axes = plt.subplots(nrows=4, ncols=2, figsize=(12, 20))"
   ]
  },
  {
   "cell_type": "code",
   "execution_count": null,
   "id": "2b0d0821",
   "metadata": {},
   "outputs": [],
   "source": [
    "axes = axes.flatten()"
   ]
  },
  {
   "cell_type": "code",
   "execution_count": null,
   "id": "21302a9c",
   "metadata": {},
   "outputs": [],
   "source": [
    "for i, col in enumerate(scaled_columns):"
   ]
  },
  {
   "cell_type": "code",
   "execution_count": null,
   "id": "7d4c5f19",
   "metadata": {},
   "outputs": [],
   "source": [
    "    sns.boxplot(x=df[col], ax=axes[2*i])"
   ]
  },
  {
   "cell_type": "code",
   "execution_count": null,
   "id": "07b44427",
   "metadata": {},
   "outputs": [],
   "source": [
    "    sns.boxplot(x=df_cleaned[col], ax=axes[2*i + 1])"
   ]
  },
  {
   "cell_type": "code",
   "execution_count": null,
   "id": "21953e79",
   "metadata": {},
   "outputs": [],
   "source": [
    "plt.tight_layout()"
   ]
  },
  {
   "cell_type": "code",
   "execution_count": null,
   "id": "389fb229",
   "metadata": {},
   "outputs": [],
   "source": [
    "plt.show()"
   ]
  },
  {
   "cell_type": "code",
   "execution_count": null,
   "id": "78597504",
   "metadata": {},
   "outputs": [],
   "source": []
  },
  {
   "cell_type": "code",
   "execution_count": null,
   "id": "63d513aa",
   "metadata": {},
   "outputs": [],
   "source": [
    "plt.figure(figsize=(8, 4))"
   ]
  },
  {
   "cell_type": "code",
   "execution_count": null,
   "id": "712dd7d0",
   "metadata": {},
   "outputs": [],
   "source": [
    "sns.histplot(df['heart_rate'].dropna(), kde=True)"
   ]
  },
  {
   "cell_type": "code",
   "execution_count": null,
   "id": "737425a4",
   "metadata": {},
   "outputs": [],
   "source": [
    "plt.show()"
   ]
  },
  {
   "cell_type": "code",
   "execution_count": null,
   "id": "89d30abd",
   "metadata": {},
   "outputs": [],
   "source": []
  },
  {
   "cell_type": "code",
   "execution_count": null,
   "id": "e6a9dd1e",
   "metadata": {},
   "outputs": [],
   "source": [
    "if df['heart_rate'].isnull().any():"
   ]
  },
  {
   "cell_type": "code",
   "execution_count": null,
   "id": "d32d963d",
   "metadata": {},
   "outputs": [],
   "source": [
    "    model = LinearRegression()"
   ]
  },
  {
   "cell_type": "code",
   "execution_count": null,
   "id": "67e8bc16",
   "metadata": {},
   "outputs": [],
   "source": [
    "    train_df = df.dropna(subset=['heart_rate'])"
   ]
  },
  {
   "cell_type": "code",
   "execution_count": null,
   "id": "eb5f2b79",
   "metadata": {},
   "outputs": [],
   "source": [
    "    X_train = train_df[['age', 'weight', 'steps']]"
   ]
  },
  {
   "cell_type": "code",
   "execution_count": null,
   "id": "67cd787e",
   "metadata": {},
   "outputs": [],
   "source": [
    "    y_train = train_df['heart_rate']"
   ]
  },
  {
   "cell_type": "code",
   "execution_count": null,
   "id": "fbde95fb",
   "metadata": {},
   "outputs": [],
   "source": [
    "    model.fit(X_train, y_train)"
   ]
  },
  {
   "cell_type": "code",
   "execution_count": null,
   "id": "0d45b357",
   "metadata": {},
   "outputs": [],
   "source": [
    "    missing_values = df[df['heart_rate'].isnull()]"
   ]
  },
  {
   "cell_type": "code",
   "execution_count": null,
   "id": "e03ad647",
   "metadata": {},
   "outputs": [],
   "source": [
    "    X_missing = missing_values[['age', 'weight', 'steps']]"
   ]
  },
  {
   "cell_type": "code",
   "execution_count": null,
   "id": "1b0c552a",
   "metadata": {},
   "outputs": [],
   "source": [
    "    if not X_missing.empty:"
   ]
  },
  {
   "cell_type": "code",
   "execution_count": null,
   "id": "4d74407c",
   "metadata": {},
   "outputs": [],
   "source": [
    "        predicted_values = model.predict(X_missing)"
   ]
  },
  {
   "cell_type": "code",
   "execution_count": null,
   "id": "b0064dc9",
   "metadata": {},
   "outputs": [],
   "source": [
    "        df.loc[df['heart_rate'].isnull(), 'heart_rate'] = predicted_values"
   ]
  },
  {
   "cell_type": "code",
   "execution_count": null,
   "id": "e519449e",
   "metadata": {},
   "outputs": [],
   "source": []
  },
  {
   "cell_type": "code",
   "execution_count": null,
   "id": "b2eead89",
   "metadata": {},
   "outputs": [],
   "source": [
    "plt.figure(figsize=(8, 4))"
   ]
  },
  {
   "cell_type": "code",
   "execution_count": null,
   "id": "e9d92a3f",
   "metadata": {},
   "outputs": [],
   "source": [
    "sns.boxplot(x=df['heart_rate'])"
   ]
  },
  {
   "cell_type": "code",
   "execution_count": null,
   "id": "e3bec4d9",
   "metadata": {},
   "outputs": [],
   "source": [
    "plt.show()"
   ]
  },
  {
   "cell_type": "code",
   "execution_count": null,
   "id": "7373835b",
   "metadata": {},
   "outputs": [],
   "source": []
  },
  {
   "cell_type": "code",
   "execution_count": null,
   "id": "08342371",
   "metadata": {},
   "outputs": [],
   "source": [
    "df['heart_rate'] = df['heart_rate'].apply(lambda x: abs(x) if x < 0 else x)"
   ]
  },
  {
   "cell_type": "code",
   "execution_count": null,
   "id": "99868a61",
   "metadata": {},
   "outputs": [],
   "source": [
    "plt.figure(figsize=(8, 4))"
   ]
  },
  {
   "cell_type": "code",
   "execution_count": null,
   "id": "36a27ea7",
   "metadata": {},
   "outputs": [],
   "source": [
    "sns.boxplot(x=df['heart_rate'])"
   ]
  },
  {
   "cell_type": "code",
   "execution_count": null,
   "id": "442f7bf4",
   "metadata": {},
   "outputs": [],
   "source": [
    "plt.show()"
   ]
  },
  {
   "cell_type": "code",
   "execution_count": null,
   "id": "0a588b40",
   "metadata": {},
   "outputs": [],
   "source": []
  },
  {
   "cell_type": "code",
   "execution_count": null,
   "id": "9adf30d3",
   "metadata": {},
   "outputs": [],
   "source": [
    "# Adjust Activity Labels"
   ]
  },
  {
   "cell_type": "code",
   "execution_count": null,
   "id": "2d7a4bb4",
   "metadata": {},
   "outputs": [],
   "source": [
    "original_activities = df['activity'].copy()"
   ]
  },
  {
   "cell_type": "code",
   "execution_count": null,
   "id": "e8eb64f0",
   "metadata": {},
   "outputs": [],
   "source": [
    "df['activity'] = df['activity'].replace('Self Pace walk', 'Walking')"
   ]
  },
  {
   "cell_type": "code",
   "execution_count": null,
   "id": "383522c5",
   "metadata": {},
   "outputs": [],
   "source": [
    "def map_activities(activity):"
   ]
  },
  {
   "cell_type": "code",
   "execution_count": null,
   "id": "e42ef362",
   "metadata": {},
   "outputs": [],
   "source": [
    "    if activity == \"Stnding\":"
   ]
  }
 ],
 "metadata": {},
 "nbformat": 4,
 "nbformat_minor": 5
}
