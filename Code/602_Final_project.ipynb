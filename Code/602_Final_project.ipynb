{
 "cells": [
  {
   "cell_type": "code",
   "execution_count": null,
   "id": "c76961aa",
   "metadata": {},
   "outputs": [],
   "source": [
    "# Mounting"
   ]
  },
  {
   "cell_type": "code",
   "execution_count": null,
   "id": "284a9c16",
   "metadata": {},
   "outputs": [],
   "source": [
    "from google.colab import drive"
   ]
  },
  {
   "cell_type": "code",
   "execution_count": null,
   "id": "2c5182d8",
   "metadata": {},
   "outputs": [],
   "source": [
    "drive.mount('/content/drive')"
   ]
  },
  {
   "cell_type": "code",
   "execution_count": null,
   "id": "753037c7",
   "metadata": {},
   "outputs": [],
   "source": [
    "%cd /content/drive/MyDrive/602/3"
   ]
  },
  {
   "cell_type": "code",
   "execution_count": null,
   "id": "36537477",
   "metadata": {},
   "outputs": [],
   "source": []
  },
  {
   "cell_type": "code",
   "execution_count": null,
   "id": "d2f7f8fc",
   "metadata": {},
   "outputs": [],
   "source": [
    "# Importing Libraries"
   ]
  },
  {
   "cell_type": "code",
   "execution_count": null,
   "id": "86d24b89",
   "metadata": {},
   "outputs": [],
   "source": [
    "import pandas as pd"
   ]
  },
  {
   "cell_type": "code",
   "execution_count": null,
   "id": "54f13298",
   "metadata": {},
   "outputs": [],
   "source": [
    "import numpy as np"
   ]
  },
  {
   "cell_type": "code",
   "execution_count": null,
   "id": "e2ec8dda",
   "metadata": {},
   "outputs": [],
   "source": [
    "import matplotlib.pyplot as plt"
   ]
  },
  {
   "cell_type": "code",
   "execution_count": null,
   "id": "025480e4",
   "metadata": {},
   "outputs": [],
   "source": [
    "import seaborn as sns"
   ]
  },
  {
   "cell_type": "code",
   "execution_count": null,
   "id": "a0ad9415",
   "metadata": {},
   "outputs": [],
   "source": [
    "from sklearn.impute import KNNImputer"
   ]
  },
  {
   "cell_type": "code",
   "execution_count": null,
   "id": "14fcdc12",
   "metadata": {},
   "outputs": [],
   "source": [
    "from sklearn.ensemble import IsolationForest"
   ]
  },
  {
   "cell_type": "code",
   "execution_count": null,
   "id": "bf1ab28d",
   "metadata": {},
   "outputs": [],
   "source": [
    "from sklearn.preprocessing import RobustScaler, StandardScaler"
   ]
  },
  {
   "cell_type": "code",
   "execution_count": null,
   "id": "1df335a0",
   "metadata": {},
   "outputs": [],
   "source": [
    "from sklearn.linear_model import LinearRegression"
   ]
  },
  {
   "cell_type": "code",
   "execution_count": null,
   "id": "6d472541",
   "metadata": {},
   "outputs": [],
   "source": [
    "from sklearn.decomposition import PCA"
   ]
  },
  {
   "cell_type": "code",
   "execution_count": null,
   "id": "0a45484e",
   "metadata": {},
   "outputs": [],
   "source": [
    "from sklearn.cluster import KMeans"
   ]
  },
  {
   "cell_type": "code",
   "execution_count": null,
   "id": "f4a65bb2",
   "metadata": {},
   "outputs": [],
   "source": [
    "from sklearn.model_selection import train_test_split, cross_val_score"
   ]
  },
  {
   "cell_type": "code",
   "execution_count": null,
   "id": "4ac05614",
   "metadata": {},
   "outputs": [],
   "source": [
    "from sklearn.ensemble import RandomForestRegressor, GradientBoostingRegressor"
   ]
  },
  {
   "cell_type": "code",
   "execution_count": null,
   "id": "065a3b18",
   "metadata": {},
   "outputs": [],
   "source": [
    "from sklearn.metrics import mean_absolute_error, mean_squared_error, r2_score"
   ]
  },
  {
   "cell_type": "code",
   "execution_count": null,
   "id": "f43a798f",
   "metadata": {},
   "outputs": [],
   "source": [
    "from sklearn.neural_network import MLPRegressor"
   ]
  },
  {
   "cell_type": "code",
   "execution_count": null,
   "id": "f000093d",
   "metadata": {},
   "outputs": [],
   "source": []
  },
  {
   "cell_type": "code",
   "execution_count": null,
   "id": "a91599b2",
   "metadata": {},
   "outputs": [],
   "source": [
    "file_path = 'apple_watch_data.csv'"
   ]
  },
  {
   "cell_type": "code",
   "execution_count": null,
   "id": "eff7def8",
   "metadata": {},
   "outputs": [],
   "source": [
    "df = pd.read_csv(file_path)"
   ]
  },
  {
   "cell_type": "code",
   "execution_count": null,
   "id": "018e5af9",
   "metadata": {},
   "outputs": [],
   "source": []
  },
  {
   "cell_type": "code",
   "execution_count": null,
   "id": "db203440",
   "metadata": {},
   "outputs": [],
   "source": [
    "# Understanding Data"
   ]
  },
  {
   "cell_type": "code",
   "execution_count": null,
   "id": "c0cf3eb3",
   "metadata": {},
   "outputs": [],
   "source": [
    "df.head(5)"
   ]
  },
  {
   "cell_type": "code",
   "execution_count": null,
   "id": "fcbc43f9",
   "metadata": {},
   "outputs": [],
   "source": [
    "print(\"Dataset Head:\")"
   ]
  },
  {
   "cell_type": "code",
   "execution_count": null,
   "id": "b613b6e0",
   "metadata": {},
   "outputs": [],
   "source": [
    "print(df.head())"
   ]
  },
  {
   "cell_type": "code",
   "execution_count": null,
   "id": "6b9d77f4",
   "metadata": {},
   "outputs": [],
   "source": [
    "print(\"\\nDataset Info:\")"
   ]
  },
  {
   "cell_type": "code",
   "execution_count": null,
   "id": "06afa660",
   "metadata": {},
   "outputs": [],
   "source": [
    "print(df.info())"
   ]
  },
  {
   "cell_type": "code",
   "execution_count": null,
   "id": "3ed53d71",
   "metadata": {},
   "outputs": [],
   "source": [
    "print(\"\\nDescriptive Statistics:\")"
   ]
  },
  {
   "cell_type": "code",
   "execution_count": null,
   "id": "081b9308",
   "metadata": {},
   "outputs": [],
   "source": [
    "print(df.describe())"
   ]
  },
  {
   "cell_type": "code",
   "execution_count": null,
   "id": "0c84f5c8",
   "metadata": {},
   "outputs": [],
   "source": [
    "print(\"\\nMissing Values Initially:\")"
   ]
  },
  {
   "cell_type": "code",
   "execution_count": null,
   "id": "601efc27",
   "metadata": {},
   "outputs": [],
   "source": [
    "print(df.isnull().sum())"
   ]
  },
  {
   "cell_type": "code",
   "execution_count": null,
   "id": "3111a8c2",
   "metadata": {},
   "outputs": [],
   "source": []
  },
  {
   "cell_type": "code",
   "execution_count": null,
   "id": "52e1645c",
   "metadata": {},
   "outputs": [],
   "source": [
    "# Cleaning Missing Values"
   ]
  },
  {
   "cell_type": "code",
   "execution_count": null,
   "id": "693f28cd",
   "metadata": {},
   "outputs": [],
   "source": [
    "df = df.rename(columns={"
   ]
  },
  {
   "cell_type": "code",
   "execution_count": null,
   "id": "a56a95fc",
   "metadata": {},
   "outputs": [],
   "source": [
    "    'hear_rate': 'heart_rate',"
   ]
  },
  {
   "cell_type": "code",
   "execution_count": null,
   "id": "effc481a",
   "metadata": {},
   "outputs": [],
   "source": [
    "    'entropy_setps': 'entropy_steps'"
   ]
  },
  {
   "cell_type": "code",
   "execution_count": null,
   "id": "171c5926",
   "metadata": {},
   "outputs": [],
   "source": [
    "})"
   ]
  }
 ],
 "metadata": {},
 "nbformat": 4,
 "nbformat_minor": 5
}
