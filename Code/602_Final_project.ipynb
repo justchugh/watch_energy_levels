{
 "cells": [
  {
   "cell_type": "code",
   "execution_count": null,
   "id": "a8efa06d",
   "metadata": {},
   "outputs": [],
   "source": [
    "# Model Selection"
   ]
  },
  {
   "cell_type": "code",
   "execution_count": null,
   "id": "d1eeda8d",
   "metadata": {},
   "outputs": [],
   "source": [
    "# Load the clustered data"
   ]
  },
  {
   "cell_type": "code",
   "execution_count": null,
   "id": "ea554061",
   "metadata": {},
   "outputs": [],
   "source": [
    "file_path = 'clustered_data.csv'"
   ]
  },
  {
   "cell_type": "code",
   "execution_count": null,
   "id": "3308ff32",
   "metadata": {},
   "outputs": [],
   "source": [
    "df = pd.read_csv(file_path)"
   ]
  },
  {
   "cell_type": "code",
   "execution_count": null,
   "id": "779bde71",
   "metadata": {},
   "outputs": [],
   "source": []
  },
  {
   "cell_type": "code",
   "execution_count": null,
   "id": "522a3d5d",
   "metadata": {},
   "outputs": [],
   "source": [
    "# Define features and target"
   ]
  },
  {
   "cell_type": "code",
   "execution_count": null,
   "id": "ebb5723d",
   "metadata": {},
   "outputs": [],
   "source": [
    "features = ['Principal Component 1', 'Principal Component 2', 'Principal Component 3', 'Principal Component 4']"
   ]
  },
  {
   "cell_type": "code",
   "execution_count": null,
   "id": "00683c4c",
   "metadata": {},
   "outputs": [],
   "source": [
    "target = 'energy_level'"
   ]
  },
  {
   "cell_type": "code",
   "execution_count": null,
   "id": "1844a16f",
   "metadata": {},
   "outputs": [],
   "source": []
  },
  {
   "cell_type": "code",
   "execution_count": null,
   "id": "211be9eb",
   "metadata": {},
   "outputs": [],
   "source": [
    "X = df[features]"
   ]
  },
  {
   "cell_type": "code",
   "execution_count": null,
   "id": "0b1bd414",
   "metadata": {},
   "outputs": [],
   "source": [
    "y = df[target]"
   ]
  },
  {
   "cell_type": "code",
   "execution_count": null,
   "id": "fbb27973",
   "metadata": {},
   "outputs": [],
   "source": []
  },
  {
   "cell_type": "code",
   "execution_count": null,
   "id": "14a5403f",
   "metadata": {},
   "outputs": [],
   "source": [
    "# Split the data"
   ]
  },
  {
   "cell_type": "code",
   "execution_count": null,
   "id": "9fa274c5",
   "metadata": {},
   "outputs": [],
   "source": [
    "X_train, X_test, y_train, y_test = train_test_split(X, y, test_size=0.2, random_state=42)"
   ]
  },
  {
   "cell_type": "code",
   "execution_count": null,
   "id": "7056f010",
   "metadata": {},
   "outputs": [],
   "source": [
    "# Function to evaluate models"
   ]
  },
  {
   "cell_type": "code",
   "execution_count": null,
   "id": "b7edec79",
   "metadata": {},
   "outputs": [],
   "source": [
    "def evaluate_model(model, X_train, X_test, y_train, y_test):"
   ]
  },
  {
   "cell_type": "code",
   "execution_count": null,
   "id": "20f22774",
   "metadata": {},
   "outputs": [],
   "source": [
    "    model.fit(X_train, y_train)"
   ]
  },
  {
   "cell_type": "code",
   "execution_count": null,
   "id": "3953e72b",
   "metadata": {},
   "outputs": [],
   "source": [
    "    y_pred = model.predict(X_test)"
   ]
  },
  {
   "cell_type": "code",
   "execution_count": null,
   "id": "ed7133f1",
   "metadata": {},
   "outputs": [],
   "source": [
    "    mae = mean_absolute_error(y_test, y_pred)"
   ]
  },
  {
   "cell_type": "code",
   "execution_count": null,
   "id": "91be143f",
   "metadata": {},
   "outputs": [],
   "source": [
    "    mse = mean_squared_error(y_test, y_pred)"
   ]
  },
  {
   "cell_type": "code",
   "execution_count": null,
   "id": "9900790f",
   "metadata": {},
   "outputs": [],
   "source": [
    "    r2 = r2_score(y_test, y_pred)"
   ]
  },
  {
   "cell_type": "code",
   "execution_count": null,
   "id": "42ace297",
   "metadata": {},
   "outputs": [],
   "source": [
    "    return {'MAE': mae, 'MSE': mse, 'R2': r2}"
   ]
  },
  {
   "cell_type": "code",
   "execution_count": null,
   "id": "f8e483ad",
   "metadata": {},
   "outputs": [],
   "source": [
    "## Evaluate Models"
   ]
  },
  {
   "cell_type": "code",
   "execution_count": null,
   "id": "25a140f9",
   "metadata": {},
   "outputs": [],
   "source": [
    "# Models to evaluate"
   ]
  },
  {
   "cell_type": "code",
   "execution_count": null,
   "id": "170400f0",
   "metadata": {},
   "outputs": [],
   "source": [
    "models = {"
   ]
  },
  {
   "cell_type": "code",
   "execution_count": null,
   "id": "9e902b2d",
   "metadata": {},
   "outputs": [],
   "source": [
    "    'Random Forest': RandomForestRegressor(n_estimators=100, random_state=42),"
   ]
  },
  {
   "cell_type": "code",
   "execution_count": null,
   "id": "d3becc98",
   "metadata": {},
   "outputs": [],
   "source": [
    "    'Gradient Boosting': GradientBoostingRegressor(n_estimators=100, random_state=42),"
   ]
  },
  {
   "cell_type": "code",
   "execution_count": null,
   "id": "42562fcb",
   "metadata": {},
   "outputs": [],
   "source": [
    "    'Neural Network': MLPRegressor(hidden_layer_sizes=(50, 50), max_iter=500, random_state=42)"
   ]
  },
  {
   "cell_type": "code",
   "execution_count": null,
   "id": "0479d0a8",
   "metadata": {},
   "outputs": [],
   "source": [
    "}"
   ]
  },
  {
   "cell_type": "code",
   "execution_count": null,
   "id": "39f9b488",
   "metadata": {},
   "outputs": [],
   "source": [
    "results = {}"
   ]
  },
  {
   "cell_type": "code",
   "execution_count": null,
   "id": "6a6f3202",
   "metadata": {},
   "outputs": [],
   "source": [
    "for name, model in models.items():"
   ]
  },
  {
   "cell_type": "code",
   "execution_count": null,
   "id": "bc0cd7ac",
   "metadata": {},
   "outputs": [],
   "source": [
    "    results[name] = evaluate_model(model, X_train, X_test, y_train, y_test)"
   ]
  },
  {
   "cell_type": "code",
   "execution_count": null,
   "id": "70eca1da",
   "metadata": {},
   "outputs": [],
   "source": [
    "    print(f\"{name} - MAE: {results[name]['MAE']}, MSE: {results[name]['MSE']}, R2: {results[name]['R2']}\")"
   ]
  },
  {
   "cell_type": "code",
   "execution_count": null,
   "id": "c914d0b8",
   "metadata": {},
   "outputs": [],
   "source": [
    "# Cross-validation"
   ]
  },
  {
   "cell_type": "code",
   "execution_count": null,
   "id": "a114f62b",
   "metadata": {},
   "outputs": [],
   "source": [
    "for name, model in models.items():"
   ]
  },
  {
   "cell_type": "code",
   "execution_count": null,
   "id": "c654abc9",
   "metadata": {},
   "outputs": [],
   "source": [
    "    cv_scores = cross_val_score(model, X, y, cv=5, scoring='r2')"
   ]
  },
  {
   "cell_type": "code",
   "execution_count": null,
   "id": "f91f313d",
   "metadata": {},
   "outputs": [],
   "source": [
    "    print(f\"{name} - Cross-Validated R-squared: {cv_scores.mean()}\")"
   ]
  },
  {
   "cell_type": "code",
   "execution_count": null,
   "id": "d9e0dac3",
   "metadata": {},
   "outputs": [],
   "source": [
    "# Save the results"
   ]
  },
  {
   "cell_type": "code",
   "execution_count": null,
   "id": "39a2010b",
   "metadata": {},
   "outputs": [],
   "source": [
    "results_df = pd.DataFrame(results).T"
   ]
  },
  {
   "cell_type": "code",
   "execution_count": null,
   "id": "be05a995",
   "metadata": {},
   "outputs": [],
   "source": [
    "results_df.to_csv('model_evaluation_results.csv')"
   ]
  },
  {
   "cell_type": "code",
   "execution_count": null,
   "id": "6d00d12e",
   "metadata": {},
   "outputs": [],
   "source": [
    "print(\"Model evaluation results saved to 'model_evaluation_results.csv'\")"
   ]
  },
  {
   "cell_type": "code",
   "execution_count": null,
   "id": "d81f6a8f",
   "metadata": {},
   "outputs": [],
   "source": []
  },
  {
   "cell_type": "code",
   "execution_count": null,
   "id": "89366e7a",
   "metadata": {},
   "outputs": [],
   "source": []
  },
  {
   "cell_type": "code",
   "execution_count": null,
   "id": "2e7108d4",
   "metadata": {},
   "outputs": [],
   "source": [
    "## Trying extra Trees Regressor"
   ]
  },
  {
   "cell_type": "code",
   "execution_count": null,
   "id": "4ad425bd",
   "metadata": {},
   "outputs": [],
   "source": [
    "from sklearn.preprocessing import StandardScaler"
   ]
  },
  {
   "cell_type": "code",
   "execution_count": null,
   "id": "5a09aded",
   "metadata": {},
   "outputs": [],
   "source": [
    "from sklearn.ensemble import ExtraTreesRegressor"
   ]
  },
  {
   "cell_type": "code",
   "execution_count": null,
   "id": "deeae3e6",
   "metadata": {},
   "outputs": [],
   "source": [
    "import numpy as np"
   ]
  },
  {
   "cell_type": "code",
   "execution_count": null,
   "id": "b6d07fb5",
   "metadata": {},
   "outputs": [],
   "source": [
    "from sklearn.metrics import mean_absolute_error, mean_squared_error, r2_score"
   ]
  },
  {
   "cell_type": "code",
   "execution_count": null,
   "id": "912a5f15",
   "metadata": {},
   "outputs": [],
   "source": []
  },
  {
   "cell_type": "code",
   "execution_count": null,
   "id": "8e147b72",
   "metadata": {},
   "outputs": [],
   "source": [
    "# Assuming you want to scale the target variable"
   ]
  },
  {
   "cell_type": "code",
   "execution_count": null,
   "id": "bb84a6f5",
   "metadata": {},
   "outputs": [],
   "source": [
    "scaler_y = StandardScaler()"
   ]
  },
  {
   "cell_type": "code",
   "execution_count": null,
   "id": "71c1e96e",
   "metadata": {},
   "outputs": [],
   "source": [
    "y_train_scaled = scaler_y.fit_transform(y_train.reshape(-1, 1)).flatten()"
   ]
  },
  {
   "cell_type": "code",
   "execution_count": null,
   "id": "257bf4b8",
   "metadata": {},
   "outputs": [],
   "source": [
    "y_test_scaled = scaler_y.transform(y_test.reshape(-1, 1)).flatten()"
   ]
  },
  {
   "cell_type": "code",
   "execution_count": null,
   "id": "d5d87b5a",
   "metadata": {},
   "outputs": [],
   "source": []
  },
  {
   "cell_type": "code",
   "execution_count": null,
   "id": "e036e745",
   "metadata": {},
   "outputs": [],
   "source": [
    "def evaluate_model(model, X_train, X_test, y_train_scaled, y_test_scaled, scaler_y=None):"
   ]
  },
  {
   "cell_type": "code",
   "execution_count": null,
   "id": "976235a9",
   "metadata": {},
   "outputs": [],
   "source": [
    "    model.fit(X_train, y_train_scaled)"
   ]
  },
  {
   "cell_type": "code",
   "execution_count": null,
   "id": "5641e49f",
   "metadata": {},
   "outputs": [],
   "source": [
    "    y_pred_scaled = model.predict(X_test)"
   ]
  },
  {
   "cell_type": "code",
   "execution_count": null,
   "id": "feae540b",
   "metadata": {},
   "outputs": [],
   "source": [
    "    if scaler_y:"
   ]
  },
  {
   "cell_type": "code",
   "execution_count": null,
   "id": "4b25fe46",
   "metadata": {},
   "outputs": [],
   "source": [
    "        y_pred = scaler_y.inverse_transform(y_pred_scaled.reshape(-1, 1)).flatten()"
   ]
  },
  {
   "cell_type": "code",
   "execution_count": null,
   "id": "5854c540",
   "metadata": {},
   "outputs": [],
   "source": [
    "    else:"
   ]
  },
  {
   "cell_type": "code",
   "execution_count": null,
   "id": "4227ace8",
   "metadata": {},
   "outputs": [],
   "source": [
    "        y_pred = y_pred_scaled"
   ]
  },
  {
   "cell_type": "code",
   "execution_count": null,
   "id": "87ed0f91",
   "metadata": {},
   "outputs": [],
   "source": [
    "    mae = mean_absolute_error(y_test, y_pred)"
   ]
  },
  {
   "cell_type": "code",
   "execution_count": null,
   "id": "89d6e853",
   "metadata": {},
   "outputs": [],
   "source": [
    "    mse = mean_squared_error(y_test, y_pred)"
   ]
  },
  {
   "cell_type": "code",
   "execution_count": null,
   "id": "2a5181f7",
   "metadata": {},
   "outputs": [],
   "source": [
    "    r2 = r2_score(y_test, y_pred)"
   ]
  },
  {
   "cell_type": "code",
   "execution_count": null,
   "id": "8736a49a",
   "metadata": {},
   "outputs": [],
   "source": [
    "    return mae, mse, r2"
   ]
  },
  {
   "cell_type": "code",
   "execution_count": null,
   "id": "2ad16b00",
   "metadata": {},
   "outputs": [],
   "source": []
  },
  {
   "cell_type": "code",
   "execution_count": null,
   "id": "916147b0",
   "metadata": {},
   "outputs": [],
   "source": [
    "# Usage with Extra Trees Regressor"
   ]
  },
  {
   "cell_type": "code",
   "execution_count": null,
   "id": "8a7d3a7f",
   "metadata": {},
   "outputs": [],
   "source": [
    "et_model = ExtraTreesRegressor(n_estimators=100, random_state=42)"
   ]
  },
  {
   "cell_type": "code",
   "execution_count": null,
   "id": "056a0a79",
   "metadata": {},
   "outputs": [],
   "source": [
    "mae, mse, r2 = evaluate_model(et_model, X_train, X_test, y_train_scaled, y_test_scaled, scaler_y)"
   ]
  },
  {
   "cell_type": "code",
   "execution_count": null,
   "id": "655a86ae",
   "metadata": {},
   "outputs": [],
   "source": [
    "print(f\"Extra Trees - MAE: {mae}, MSE: {mse}, R2: {r2}\")"
   ]
  },
  {
   "cell_type": "code",
   "execution_count": null,
   "id": "5aa4b3e5",
   "metadata": {},
   "outputs": [],
   "source": []
  },
  {
   "cell_type": "code",
   "execution_count": null,
   "id": "1df681f8",
   "metadata": {},
   "outputs": [],
   "source": [
    "## Bagging Regressor"
   ]
  },
  {
   "cell_type": "code",
   "execution_count": null,
   "id": "9f90cf84",
   "metadata": {},
   "outputs": [],
   "source": [
    "from sklearn.ensemble import BaggingRegressor"
   ]
  },
  {
   "cell_type": "code",
   "execution_count": null,
   "id": "7aa32054",
   "metadata": {},
   "outputs": [],
   "source": []
  },
  {
   "cell_type": "code",
   "execution_count": null,
   "id": "000c1463",
   "metadata": {},
   "outputs": [],
   "source": [
    "bg_model = BaggingRegressor(base_estimator=RandomForestRegressor(n_estimators=10, random_state=42), n_estimators=10, random_state=42)"
   ]
  },
  {
   "cell_type": "code",
   "execution_count": null,
   "id": "9fbb0e03",
   "metadata": {},
   "outputs": [],
   "source": [
    "mae, mse, r2 = evaluate_model(bg_model, X_train, X_test, y_train, y_test)"
   ]
  },
  {
   "cell_type": "code",
   "execution_count": null,
   "id": "a57e6a45",
   "metadata": {},
   "outputs": [],
   "source": [
    "print(f\"Bagging Regressor - MAE: {mae}, MSE: {mse}, R2: {r2}\")"
   ]
  },
  {
   "cell_type": "code",
   "execution_count": null,
   "id": "5010012e",
   "metadata": {},
   "outputs": [],
   "source": []
  },
  {
   "cell_type": "code",
   "execution_count": null,
   "id": "53ee887c",
   "metadata": {},
   "outputs": [],
   "source": [
    "# Cross-validation for Bagging Regressor"
   ]
  },
  {
   "cell_type": "code",
   "execution_count": null,
   "id": "56804c33",
   "metadata": {},
   "outputs": [],
   "source": [
    "bg_cv_scores = cross_val_score(bg_model, X, y, cv=5, scoring='r2')"
   ]
  },
  {
   "cell_type": "code",
   "execution_count": null,
   "id": "642fd73d",
   "metadata": {},
   "outputs": [],
   "source": [
    "print(f\"Bagging Regressor - Cross-Validated R-squared: {bg_cv_scores.mean()}\")"
   ]
  },
  {
   "cell_type": "code",
   "execution_count": null,
   "id": "14c5c504",
   "metadata": {},
   "outputs": [],
   "source": [
    "# Model Evaluation"
   ]
  },
  {
   "cell_type": "code",
   "execution_count": null,
   "id": "4927ea36",
   "metadata": {},
   "outputs": [],
   "source": [
    "import numpy as np"
   ]
  },
  {
   "cell_type": "code",
   "execution_count": null,
   "id": "ae8e8bf4",
   "metadata": {},
   "outputs": [],
   "source": [
    "rmse = np.sqrt(mean_squared_error(y_test, y_pred))"
   ]
  },
  {
   "cell_type": "code",
   "execution_count": null,
   "id": "d5965b91",
   "metadata": {},
   "outputs": [],
   "source": [
    "mape = np.mean(np.abs((y_test - y_pred) / y_test)) * 100"
   ]
  },
  {
   "cell_type": "code",
   "execution_count": null,
   "id": "c526f6bc",
   "metadata": {},
   "outputs": [],
   "source": [
    "import matplotlib.pyplot as plt"
   ]
  },
  {
   "cell_type": "code",
   "execution_count": null,
   "id": "3b818ae3",
   "metadata": {},
   "outputs": [],
   "source": [
    "residuals = y_test - y_pred"
   ]
  },
  {
   "cell_type": "code",
   "execution_count": null,
   "id": "c8c087ad",
   "metadata": {},
   "outputs": [],
   "source": [
    "plt.scatter(y_test, residuals)"
   ]
  },
  {
   "cell_type": "code",
   "execution_count": null,
   "id": "fa9f04e9",
   "metadata": {},
   "outputs": [],
   "source": [
    "plt.hlines(y=0, xmin=y_test.min(), xmax=y_test.max(), colors='red')"
   ]
  },
  {
   "cell_type": "code",
   "execution_count": null,
   "id": "a7e3c693",
   "metadata": {},
   "outputs": [],
   "source": [
    "plt.xlabel('Actual Values')"
   ]
  },
  {
   "cell_type": "code",
   "execution_count": null,
   "id": "d1a44230",
   "metadata": {},
   "outputs": [],
   "source": [
    "plt.ylabel('Residuals')"
   ]
  },
  {
   "cell_type": "code",
   "execution_count": null,
   "id": "69dcc258",
   "metadata": {},
   "outputs": [],
   "source": [
    "plt.title('Residual Plot')"
   ]
  },
  {
   "cell_type": "code",
   "execution_count": null,
   "id": "8a8e7a7e",
   "metadata": {},
   "outputs": [],
   "source": [
    "plt.show()"
   ]
  },
  {
   "cell_type": "code",
   "execution_count": null,
   "id": "3d919b2d",
   "metadata": {},
   "outputs": [],
   "source": [
    "Residual plot demonstrating a relatively even distribution of residuals around zero across the range of actual values, suggesting a good fit for a linear regression model."
   ]
  },
  {
   "cell_type": "code",
   "execution_count": null,
   "id": "43c3c054",
   "metadata": {},
   "outputs": [],
   "source": []
  },
  {
   "cell_type": "code",
   "execution_count": null,
   "id": "a2e6b164",
   "metadata": {},
   "outputs": [],
   "source": [
    "# Conclusion"
   ]
  },
  {
   "cell_type": "code",
   "execution_count": null,
   "id": "2ef7c577",
   "metadata": {},
   "outputs": [],
   "source": [
    "**Key Takeaways and Future Directions:**"
   ]
  },
  {
   "cell_type": "code",
   "execution_count": null,
   "id": "3e981670",
   "metadata": {},
   "outputs": [],
   "source": []
  },
  {
   "cell_type": "code",
   "execution_count": null,
   "id": "4ce6550a",
   "metadata": {},
   "outputs": [],
   "source": [
    "* **Successful prediction of individual energy levels:** Leveraging wearable data and machine learning models (especially Random Forest), we achieved accurate predictions of energy levels (1-10)."
   ]
  },
  {
   "cell_type": "code",
   "execution_count": null,
   "id": "0f517051",
   "metadata": {},
   "outputs": [],
   "source": [
    "* **Deepened understanding of energy dynamics:** This research unveils the intricate link between physical activity and energy fluctuations, informing personalized wellness strategies."
   ]
  },
  {
   "cell_type": "code",
   "execution_count": null,
   "id": "0e72c8b9",
   "metadata": {},
   "outputs": [],
   "source": [
    "* **Real-world applications:** The insights gained pave the way for innovative solutions in:"
   ]
  },
  {
   "cell_type": "code",
   "execution_count": null,
   "id": "86aa2b6c",
   "metadata": {},
   "outputs": [],
   "source": [
    "    * **Personalized virtual fitness coaching:** Tailored workouts based on real-time energy levels."
   ]
  },
  {
   "cell_type": "code",
   "execution_count": null,
   "id": "fa10a5cc",
   "metadata": {},
   "outputs": [],
   "source": [
    "    * **Nutrition tracking and analysis:** Dynamic meal plans aligned with energy peaks and troughs."
   ]
  },
  {
   "cell_type": "code",
   "execution_count": null,
   "id": "2c8f932d",
   "metadata": {},
   "outputs": [],
   "source": [
    "    * **Mental health monitoring:** Proactive interventions based on detected energy dips."
   ]
  },
  {
   "cell_type": "code",
   "execution_count": null,
   "id": "98ea6f6e",
   "metadata": {},
   "outputs": [],
   "source": [
    "    * **Sleep quality improvement:** Personalized recommendations for optimal sleep patterns."
   ]
  },
  {
   "cell_type": "code",
   "execution_count": null,
   "id": "6eb92e3b",
   "metadata": {},
   "outputs": [],
   "source": [
    "    * **Medication adherence:** Timely reminders and adjustments based on energy fluctuations."
   ]
  },
  {
   "cell_type": "code",
   "execution_count": null,
   "id": "c8d2fa02",
   "metadata": {},
   "outputs": [],
   "source": [
    "    * **Elderly care monitoring:** Proactive health management through energy pattern analysis."
   ]
  }
 ],
 "metadata": {},
 "nbformat": 4,
 "nbformat_minor": 5
}
