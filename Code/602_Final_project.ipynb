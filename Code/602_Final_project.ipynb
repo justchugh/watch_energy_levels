{
 "cells": [
  {
   "cell_type": "code",
   "execution_count": null,
   "id": "74a48b92",
   "metadata": {},
   "outputs": [],
   "source": [
    "# Model Selection"
   ]
  },
  {
   "cell_type": "code",
   "execution_count": null,
   "id": "05605023",
   "metadata": {},
   "outputs": [],
   "source": [
    "# Load the clustered data"
   ]
  },
  {
   "cell_type": "code",
   "execution_count": null,
   "id": "feb25b22",
   "metadata": {},
   "outputs": [],
   "source": [
    "file_path = 'clustered_data.csv'"
   ]
  },
  {
   "cell_type": "code",
   "execution_count": null,
   "id": "8ae35b69",
   "metadata": {},
   "outputs": [],
   "source": [
    "df = pd.read_csv(file_path)"
   ]
  },
  {
   "cell_type": "code",
   "execution_count": null,
   "id": "fef170a2",
   "metadata": {},
   "outputs": [],
   "source": []
  },
  {
   "cell_type": "code",
   "execution_count": null,
   "id": "0a3bd1fe",
   "metadata": {},
   "outputs": [],
   "source": [
    "# Define features and target"
   ]
  },
  {
   "cell_type": "code",
   "execution_count": null,
   "id": "8bf1d68e",
   "metadata": {},
   "outputs": [],
   "source": [
    "features = ['Principal Component 1', 'Principal Component 2', 'Principal Component 3', 'Principal Component 4']"
   ]
  },
  {
   "cell_type": "code",
   "execution_count": null,
   "id": "444b9d12",
   "metadata": {},
   "outputs": [],
   "source": [
    "target = 'energy_level'"
   ]
  },
  {
   "cell_type": "code",
   "execution_count": null,
   "id": "c9cfef5a",
   "metadata": {},
   "outputs": [],
   "source": []
  },
  {
   "cell_type": "code",
   "execution_count": null,
   "id": "c1fc8fc1",
   "metadata": {},
   "outputs": [],
   "source": [
    "X = df[features]"
   ]
  },
  {
   "cell_type": "code",
   "execution_count": null,
   "id": "fc5b34bd",
   "metadata": {},
   "outputs": [],
   "source": [
    "y = df[target]"
   ]
  },
  {
   "cell_type": "code",
   "execution_count": null,
   "id": "8ec36eb5",
   "metadata": {},
   "outputs": [],
   "source": []
  },
  {
   "cell_type": "code",
   "execution_count": null,
   "id": "dd9c2081",
   "metadata": {},
   "outputs": [],
   "source": [
    "# Split the data"
   ]
  },
  {
   "cell_type": "code",
   "execution_count": null,
   "id": "6461797d",
   "metadata": {},
   "outputs": [],
   "source": [
    "X_train, X_test, y_train, y_test = train_test_split(X, y, test_size=0.2, random_state=42)"
   ]
  },
  {
   "cell_type": "code",
   "execution_count": null,
   "id": "4fd5c4c8",
   "metadata": {},
   "outputs": [],
   "source": [
    "# Function to evaluate models"
   ]
  },
  {
   "cell_type": "code",
   "execution_count": null,
   "id": "cf2cb4b4",
   "metadata": {},
   "outputs": [],
   "source": [
    "def evaluate_model(model, X_train, X_test, y_train, y_test):"
   ]
  },
  {
   "cell_type": "code",
   "execution_count": null,
   "id": "f5e66abc",
   "metadata": {},
   "outputs": [],
   "source": [
    "    model.fit(X_train, y_train)"
   ]
  },
  {
   "cell_type": "code",
   "execution_count": null,
   "id": "6893090b",
   "metadata": {},
   "outputs": [],
   "source": [
    "    y_pred = model.predict(X_test)"
   ]
  },
  {
   "cell_type": "code",
   "execution_count": null,
   "id": "5a42441b",
   "metadata": {},
   "outputs": [],
   "source": [
    "    mae = mean_absolute_error(y_test, y_pred)"
   ]
  },
  {
   "cell_type": "code",
   "execution_count": null,
   "id": "0efd40a4",
   "metadata": {},
   "outputs": [],
   "source": [
    "    mse = mean_squared_error(y_test, y_pred)"
   ]
  },
  {
   "cell_type": "code",
   "execution_count": null,
   "id": "2195ed00",
   "metadata": {},
   "outputs": [],
   "source": [
    "    r2 = r2_score(y_test, y_pred)"
   ]
  },
  {
   "cell_type": "code",
   "execution_count": null,
   "id": "b3524584",
   "metadata": {},
   "outputs": [],
   "source": [
    "    return {'MAE': mae, 'MSE': mse, 'R2': r2}"
   ]
  },
  {
   "cell_type": "code",
   "execution_count": null,
   "id": "ecc829e3",
   "metadata": {},
   "outputs": [],
   "source": [
    "## Evaluate Models"
   ]
  },
  {
   "cell_type": "code",
   "execution_count": null,
   "id": "d234cda7",
   "metadata": {},
   "outputs": [],
   "source": [
    "# Models to evaluate"
   ]
  },
  {
   "cell_type": "code",
   "execution_count": null,
   "id": "d778186b",
   "metadata": {},
   "outputs": [],
   "source": [
    "models = {"
   ]
  },
  {
   "cell_type": "code",
   "execution_count": null,
   "id": "babd4ad2",
   "metadata": {},
   "outputs": [],
   "source": [
    "    'Random Forest': RandomForestRegressor(n_estimators=100, random_state=42),"
   ]
  },
  {
   "cell_type": "code",
   "execution_count": null,
   "id": "68c2affc",
   "metadata": {},
   "outputs": [],
   "source": [
    "    'Gradient Boosting': GradientBoostingRegressor(n_estimators=100, random_state=42),"
   ]
  },
  {
   "cell_type": "code",
   "execution_count": null,
   "id": "37a9145d",
   "metadata": {},
   "outputs": [],
   "source": [
    "    'Neural Network': MLPRegressor(hidden_layer_sizes=(50, 50), max_iter=500, random_state=42)"
   ]
  },
  {
   "cell_type": "code",
   "execution_count": null,
   "id": "9c31af6a",
   "metadata": {},
   "outputs": [],
   "source": [
    "}"
   ]
  },
  {
   "cell_type": "code",
   "execution_count": null,
   "id": "57937bef",
   "metadata": {},
   "outputs": [],
   "source": [
    "results = {}"
   ]
  },
  {
   "cell_type": "code",
   "execution_count": null,
   "id": "f520529e",
   "metadata": {},
   "outputs": [],
   "source": [
    "for name, model in models.items():"
   ]
  },
  {
   "cell_type": "code",
   "execution_count": null,
   "id": "dcec5d4f",
   "metadata": {},
   "outputs": [],
   "source": [
    "    results[name] = evaluate_model(model, X_train, X_test, y_train, y_test)"
   ]
  },
  {
   "cell_type": "code",
   "execution_count": null,
   "id": "176895cd",
   "metadata": {},
   "outputs": [],
   "source": [
    "    print(f\"{name} - MAE: {results[name]['MAE']}, MSE: {results[name]['MSE']}, R2: {results[name]['R2']}\")"
   ]
  },
  {
   "cell_type": "code",
   "execution_count": null,
   "id": "10eccdb2",
   "metadata": {},
   "outputs": [],
   "source": [
    "# Cross-validation"
   ]
  },
  {
   "cell_type": "code",
   "execution_count": null,
   "id": "d115c5d6",
   "metadata": {},
   "outputs": [],
   "source": [
    "for name, model in models.items():"
   ]
  },
  {
   "cell_type": "code",
   "execution_count": null,
   "id": "c2c71f92",
   "metadata": {},
   "outputs": [],
   "source": [
    "    cv_scores = cross_val_score(model, X, y, cv=5, scoring='r2')"
   ]
  },
  {
   "cell_type": "code",
   "execution_count": null,
   "id": "1bf4bcbd",
   "metadata": {},
   "outputs": [],
   "source": [
    "    print(f\"{name} - Cross-Validated R-squared: {cv_scores.mean()}\")"
   ]
  },
  {
   "cell_type": "code",
   "execution_count": null,
   "id": "06296bf2",
   "metadata": {},
   "outputs": [],
   "source": [
    "# Save the results"
   ]
  },
  {
   "cell_type": "code",
   "execution_count": null,
   "id": "cfe8b57d",
   "metadata": {},
   "outputs": [],
   "source": [
    "results_df = pd.DataFrame(results).T"
   ]
  },
  {
   "cell_type": "code",
   "execution_count": null,
   "id": "32087d7b",
   "metadata": {},
   "outputs": [],
   "source": [
    "results_df.to_csv('model_evaluation_results.csv')"
   ]
  },
  {
   "cell_type": "code",
   "execution_count": null,
   "id": "b7ab6ba8",
   "metadata": {},
   "outputs": [],
   "source": [
    "print(\"Model evaluation results saved to 'model_evaluation_results.csv'\")"
   ]
  },
  {
   "cell_type": "code",
   "execution_count": null,
   "id": "b15ac81d",
   "metadata": {},
   "outputs": [],
   "source": []
  },
  {
   "cell_type": "code",
   "execution_count": null,
   "id": "89a4a0c9",
   "metadata": {},
   "outputs": [],
   "source": []
  },
  {
   "cell_type": "code",
   "execution_count": null,
   "id": "2c48c89a",
   "metadata": {},
   "outputs": [],
   "source": [
    "## Trying extra Trees Regressor"
   ]
  },
  {
   "cell_type": "code",
   "execution_count": null,
   "id": "a41f3c66",
   "metadata": {},
   "outputs": [],
   "source": [
    "from sklearn.preprocessing import StandardScaler"
   ]
  },
  {
   "cell_type": "code",
   "execution_count": null,
   "id": "0d8b3b0e",
   "metadata": {},
   "outputs": [],
   "source": [
    "from sklearn.ensemble import ExtraTreesRegressor"
   ]
  },
  {
   "cell_type": "code",
   "execution_count": null,
   "id": "c9a17428",
   "metadata": {},
   "outputs": [],
   "source": [
    "import numpy as np"
   ]
  },
  {
   "cell_type": "code",
   "execution_count": null,
   "id": "d94fad7d",
   "metadata": {},
   "outputs": [],
   "source": [
    "from sklearn.metrics import mean_absolute_error, mean_squared_error, r2_score"
   ]
  },
  {
   "cell_type": "code",
   "execution_count": null,
   "id": "07f25c62",
   "metadata": {},
   "outputs": [],
   "source": []
  },
  {
   "cell_type": "code",
   "execution_count": null,
   "id": "139a8ab4",
   "metadata": {},
   "outputs": [],
   "source": [
    "# Assuming you want to scale the target variable"
   ]
  },
  {
   "cell_type": "code",
   "execution_count": null,
   "id": "275ab6a6",
   "metadata": {},
   "outputs": [],
   "source": [
    "scaler_y = StandardScaler()"
   ]
  },
  {
   "cell_type": "code",
   "execution_count": null,
   "id": "d373e68b",
   "metadata": {},
   "outputs": [],
   "source": [
    "y_train_scaled = scaler_y.fit_transform(y_train.reshape(-1, 1)).flatten()"
   ]
  },
  {
   "cell_type": "code",
   "execution_count": null,
   "id": "96fa1845",
   "metadata": {},
   "outputs": [],
   "source": [
    "y_test_scaled = scaler_y.transform(y_test.reshape(-1, 1)).flatten()"
   ]
  },
  {
   "cell_type": "code",
   "execution_count": null,
   "id": "49039b81",
   "metadata": {},
   "outputs": [],
   "source": []
  },
  {
   "cell_type": "code",
   "execution_count": null,
   "id": "e8ffea20",
   "metadata": {},
   "outputs": [],
   "source": [
    "def evaluate_model(model, X_train, X_test, y_train_scaled, y_test_scaled, scaler_y=None):"
   ]
  },
  {
   "cell_type": "code",
   "execution_count": null,
   "id": "499c30f4",
   "metadata": {},
   "outputs": [],
   "source": [
    "    model.fit(X_train, y_train_scaled)"
   ]
  },
  {
   "cell_type": "code",
   "execution_count": null,
   "id": "4a179632",
   "metadata": {},
   "outputs": [],
   "source": [
    "    y_pred_scaled = model.predict(X_test)"
   ]
  },
  {
   "cell_type": "code",
   "execution_count": null,
   "id": "162de59b",
   "metadata": {},
   "outputs": [],
   "source": [
    "    if scaler_y:"
   ]
  },
  {
   "cell_type": "code",
   "execution_count": null,
   "id": "7eefd9d2",
   "metadata": {},
   "outputs": [],
   "source": [
    "        y_pred = scaler_y.inverse_transform(y_pred_scaled.reshape(-1, 1)).flatten()"
   ]
  },
  {
   "cell_type": "code",
   "execution_count": null,
   "id": "c4313489",
   "metadata": {},
   "outputs": [],
   "source": [
    "    else:"
   ]
  },
  {
   "cell_type": "code",
   "execution_count": null,
   "id": "e594d3fb",
   "metadata": {},
   "outputs": [],
   "source": [
    "        y_pred = y_pred_scaled"
   ]
  },
  {
   "cell_type": "code",
   "execution_count": null,
   "id": "78cddf38",
   "metadata": {},
   "outputs": [],
   "source": [
    "    mae = mean_absolute_error(y_test, y_pred)"
   ]
  },
  {
   "cell_type": "code",
   "execution_count": null,
   "id": "28c6cabc",
   "metadata": {},
   "outputs": [],
   "source": [
    "    mse = mean_squared_error(y_test, y_pred)"
   ]
  },
  {
   "cell_type": "code",
   "execution_count": null,
   "id": "26c65a62",
   "metadata": {},
   "outputs": [],
   "source": [
    "    r2 = r2_score(y_test, y_pred)"
   ]
  },
  {
   "cell_type": "code",
   "execution_count": null,
   "id": "08bc9bf8",
   "metadata": {},
   "outputs": [],
   "source": [
    "    return mae, mse, r2"
   ]
  },
  {
   "cell_type": "code",
   "execution_count": null,
   "id": "af86d33a",
   "metadata": {},
   "outputs": [],
   "source": []
  },
  {
   "cell_type": "code",
   "execution_count": null,
   "id": "5e61c45e",
   "metadata": {},
   "outputs": [],
   "source": [
    "# Usage with Extra Trees Regressor"
   ]
  },
  {
   "cell_type": "code",
   "execution_count": null,
   "id": "3fe6de67",
   "metadata": {},
   "outputs": [],
   "source": [
    "et_model = ExtraTreesRegressor(n_estimators=100, random_state=42)"
   ]
  },
  {
   "cell_type": "code",
   "execution_count": null,
   "id": "92d76ddb",
   "metadata": {},
   "outputs": [],
   "source": [
    "mae, mse, r2 = evaluate_model(et_model, X_train, X_test, y_train_scaled, y_test_scaled, scaler_y)"
   ]
  },
  {
   "cell_type": "code",
   "execution_count": null,
   "id": "84aacd40",
   "metadata": {},
   "outputs": [],
   "source": [
    "print(f\"Extra Trees - MAE: {mae}, MSE: {mse}, R2: {r2}\")"
   ]
  },
  {
   "cell_type": "code",
   "execution_count": null,
   "id": "24bccf13",
   "metadata": {},
   "outputs": [],
   "source": []
  },
  {
   "cell_type": "code",
   "execution_count": null,
   "id": "7175727b",
   "metadata": {},
   "outputs": [],
   "source": [
    "## Bagging Regressor"
   ]
  },
  {
   "cell_type": "code",
   "execution_count": null,
   "id": "55441682",
   "metadata": {},
   "outputs": [],
   "source": [
    "from sklearn.ensemble import BaggingRegressor"
   ]
  }
 ],
 "metadata": {},
 "nbformat": 4,
 "nbformat_minor": 5
}
