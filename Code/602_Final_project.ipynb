{
 "cells": [
  {
   "cell_type": "code",
   "execution_count": null,
   "id": "f1f03e24",
   "metadata": {},
   "outputs": [],
   "source": [
    "# Mounting"
   ]
  },
  {
   "cell_type": "code",
   "execution_count": null,
   "id": "12fed194",
   "metadata": {},
   "outputs": [],
   "source": [
    "from google.colab import drive"
   ]
  },
  {
   "cell_type": "code",
   "execution_count": null,
   "id": "0d96c201",
   "metadata": {},
   "outputs": [],
   "source": [
    "drive.mount('/content/drive')"
   ]
  },
  {
   "cell_type": "code",
   "execution_count": null,
   "id": "c13e3a37",
   "metadata": {},
   "outputs": [],
   "source": [
    "%cd /content/drive/MyDrive/602/3"
   ]
  },
  {
   "cell_type": "code",
   "execution_count": null,
   "id": "11d506e0",
   "metadata": {},
   "outputs": [],
   "source": []
  },
  {
   "cell_type": "code",
   "execution_count": null,
   "id": "7075f520",
   "metadata": {},
   "outputs": [],
   "source": [
    "# Importing Libraries"
   ]
  },
  {
   "cell_type": "code",
   "execution_count": null,
   "id": "5a8f40da",
   "metadata": {},
   "outputs": [],
   "source": [
    "import pandas as pd"
   ]
  },
  {
   "cell_type": "code",
   "execution_count": null,
   "id": "c2221402",
   "metadata": {},
   "outputs": [],
   "source": [
    "import numpy as np"
   ]
  },
  {
   "cell_type": "code",
   "execution_count": null,
   "id": "a20c9041",
   "metadata": {},
   "outputs": [],
   "source": [
    "import matplotlib.pyplot as plt"
   ]
  },
  {
   "cell_type": "code",
   "execution_count": null,
   "id": "9571e082",
   "metadata": {},
   "outputs": [],
   "source": [
    "import seaborn as sns"
   ]
  },
  {
   "cell_type": "code",
   "execution_count": null,
   "id": "3632badb",
   "metadata": {},
   "outputs": [],
   "source": [
    "from sklearn.impute import KNNImputer"
   ]
  },
  {
   "cell_type": "code",
   "execution_count": null,
   "id": "ebdc40ce",
   "metadata": {},
   "outputs": [],
   "source": [
    "from sklearn.ensemble import IsolationForest"
   ]
  },
  {
   "cell_type": "code",
   "execution_count": null,
   "id": "8cffdf48",
   "metadata": {},
   "outputs": [],
   "source": [
    "from sklearn.preprocessing import RobustScaler, StandardScaler"
   ]
  },
  {
   "cell_type": "code",
   "execution_count": null,
   "id": "bb16ef2e",
   "metadata": {},
   "outputs": [],
   "source": [
    "from sklearn.linear_model import LinearRegression"
   ]
  },
  {
   "cell_type": "code",
   "execution_count": null,
   "id": "63b2b42c",
   "metadata": {},
   "outputs": [],
   "source": [
    "from sklearn.decomposition import PCA"
   ]
  },
  {
   "cell_type": "code",
   "execution_count": null,
   "id": "cf0f7cce",
   "metadata": {},
   "outputs": [],
   "source": [
    "from sklearn.cluster import KMeans"
   ]
  },
  {
   "cell_type": "code",
   "execution_count": null,
   "id": "bf1aeaa1",
   "metadata": {},
   "outputs": [],
   "source": [
    "from sklearn.model_selection import train_test_split, cross_val_score"
   ]
  },
  {
   "cell_type": "code",
   "execution_count": null,
   "id": "fc24310a",
   "metadata": {},
   "outputs": [],
   "source": [
    "from sklearn.ensemble import RandomForestRegressor, GradientBoostingRegressor"
   ]
  },
  {
   "cell_type": "code",
   "execution_count": null,
   "id": "42a86738",
   "metadata": {},
   "outputs": [],
   "source": [
    "from sklearn.metrics import mean_absolute_error, mean_squared_error, r2_score"
   ]
  },
  {
   "cell_type": "code",
   "execution_count": null,
   "id": "79eff181",
   "metadata": {},
   "outputs": [],
   "source": [
    "from sklearn.neural_network import MLPRegressor"
   ]
  },
  {
   "cell_type": "code",
   "execution_count": null,
   "id": "7a8fc2ca",
   "metadata": {},
   "outputs": [],
   "source": []
  },
  {
   "cell_type": "code",
   "execution_count": null,
   "id": "5336f0c7",
   "metadata": {},
   "outputs": [],
   "source": [
    "file_path = 'apple_watch_data.csv'"
   ]
  },
  {
   "cell_type": "code",
   "execution_count": null,
   "id": "5278de31",
   "metadata": {},
   "outputs": [],
   "source": [
    "df = pd.read_csv(file_path)"
   ]
  },
  {
   "cell_type": "code",
   "execution_count": null,
   "id": "c12d47fe",
   "metadata": {},
   "outputs": [],
   "source": []
  },
  {
   "cell_type": "code",
   "execution_count": null,
   "id": "7d176fe9",
   "metadata": {},
   "outputs": [],
   "source": [
    "# Understanding Data"
   ]
  },
  {
   "cell_type": "code",
   "execution_count": null,
   "id": "fa4e82a6",
   "metadata": {},
   "outputs": [],
   "source": [
    "df.head(5)"
   ]
  },
  {
   "cell_type": "code",
   "execution_count": null,
   "id": "c25365ba",
   "metadata": {},
   "outputs": [],
   "source": [
    "print(\"Dataset Head:\")"
   ]
  },
  {
   "cell_type": "code",
   "execution_count": null,
   "id": "1cac902f",
   "metadata": {},
   "outputs": [],
   "source": [
    "print(df.head())"
   ]
  },
  {
   "cell_type": "code",
   "execution_count": null,
   "id": "151a7814",
   "metadata": {},
   "outputs": [],
   "source": [
    "print(\"\\nDataset Info:\")"
   ]
  },
  {
   "cell_type": "code",
   "execution_count": null,
   "id": "e911ad3e",
   "metadata": {},
   "outputs": [],
   "source": [
    "print(df.info())"
   ]
  },
  {
   "cell_type": "code",
   "execution_count": null,
   "id": "73dcb15c",
   "metadata": {},
   "outputs": [],
   "source": [
    "print(\"\\nDescriptive Statistics:\")"
   ]
  },
  {
   "cell_type": "code",
   "execution_count": null,
   "id": "fe2cc819",
   "metadata": {},
   "outputs": [],
   "source": [
    "print(df.describe())"
   ]
  },
  {
   "cell_type": "code",
   "execution_count": null,
   "id": "a3a076e7",
   "metadata": {},
   "outputs": [],
   "source": [
    "print(\"\\nMissing Values Initially:\")"
   ]
  },
  {
   "cell_type": "code",
   "execution_count": null,
   "id": "b892012d",
   "metadata": {},
   "outputs": [],
   "source": [
    "print(df.isnull().sum())"
   ]
  },
  {
   "cell_type": "code",
   "execution_count": null,
   "id": "caa9fece",
   "metadata": {},
   "outputs": [],
   "source": []
  },
  {
   "cell_type": "code",
   "execution_count": null,
   "id": "2483e9bf",
   "metadata": {},
   "outputs": [],
   "source": [
    "# Cleaning Missing Values"
   ]
  },
  {
   "cell_type": "code",
   "execution_count": null,
   "id": "171f1d66",
   "metadata": {},
   "outputs": [],
   "source": [
    "df = df.rename(columns={"
   ]
  },
  {
   "cell_type": "code",
   "execution_count": null,
   "id": "7df74aed",
   "metadata": {},
   "outputs": [],
   "source": [
    "    'hear_rate': 'heart_rate',"
   ]
  },
  {
   "cell_type": "code",
   "execution_count": null,
   "id": "b4f88684",
   "metadata": {},
   "outputs": [],
   "source": [
    "    'entropy_setps': 'entropy_steps'"
   ]
  },
  {
   "cell_type": "code",
   "execution_count": null,
   "id": "71029b04",
   "metadata": {},
   "outputs": [],
   "source": [
    "})"
   ]
  },
  {
   "cell_type": "code",
   "execution_count": null,
   "id": "ab6e5a11",
   "metadata": {},
   "outputs": [],
   "source": [
    "knn_imputer = KNNImputer(n_neighbors=5)"
   ]
  },
  {
   "cell_type": "code",
   "execution_count": null,
   "id": "3f2b4005",
   "metadata": {},
   "outputs": [],
   "source": [
    "df[['steps', 'calories', 'distance']] = knn_imputer.fit_transform(df[['steps', 'calories', 'distance']])"
   ]
  },
  {
   "cell_type": "code",
   "execution_count": null,
   "id": "7087b9d7",
   "metadata": {},
   "outputs": [],
   "source": [
    "df['heart_rate'] = df['heart_rate'].fillna(method='ffill')"
   ]
  },
  {
   "cell_type": "code",
   "execution_count": null,
   "id": "ef9cb9b4",
   "metadata": {},
   "outputs": [],
   "source": [
    "print(\"\\nMissing Values After Cleaning:\")"
   ]
  },
  {
   "cell_type": "code",
   "execution_count": null,
   "id": "b89215f4",
   "metadata": {},
   "outputs": [],
   "source": [
    "print(df.isnull().sum())"
   ]
  },
  {
   "cell_type": "code",
   "execution_count": null,
   "id": "e5ea81a0",
   "metadata": {},
   "outputs": [],
   "source": []
  },
  {
   "cell_type": "code",
   "execution_count": null,
   "id": "fc9ca141",
   "metadata": {},
   "outputs": [],
   "source": [
    "# Handling Outliers and Invalid Entries"
   ]
  },
  {
   "cell_type": "code",
   "execution_count": null,
   "id": "63b47607",
   "metadata": {},
   "outputs": [],
   "source": [
    "df['heart_rate'] = pd.to_numeric(df['heart_rate'], errors='coerce')"
   ]
  },
  {
   "cell_type": "code",
   "execution_count": null,
   "id": "e3c38973",
   "metadata": {},
   "outputs": [],
   "source": [
    "df.dropna(subset=['heart_rate', 'steps', 'calories', 'distance'], inplace=True)"
   ]
  },
  {
   "cell_type": "code",
   "execution_count": null,
   "id": "738be5fc",
   "metadata": {},
   "outputs": [],
   "source": [
    "scaler = RobustScaler()"
   ]
  },
  {
   "cell_type": "code",
   "execution_count": null,
   "id": "bdc73a7a",
   "metadata": {},
   "outputs": [],
   "source": [
    "scaled_columns = ['heart_rate', 'steps', 'calories', 'distance']"
   ]
  },
  {
   "cell_type": "code",
   "execution_count": null,
   "id": "d7cd62de",
   "metadata": {},
   "outputs": [],
   "source": [
    "df_scaled = scaler.fit_transform(df[scaled_columns])"
   ]
  },
  {
   "cell_type": "code",
   "execution_count": null,
   "id": "8522bc78",
   "metadata": {},
   "outputs": [],
   "source": [
    "df_scaled = pd.DataFrame(df_scaled, columns=scaled_columns)"
   ]
  },
  {
   "cell_type": "code",
   "execution_count": null,
   "id": "bfce5c74",
   "metadata": {},
   "outputs": [],
   "source": []
  },
  {
   "cell_type": "code",
   "execution_count": null,
   "id": "798b9b83",
   "metadata": {},
   "outputs": [],
   "source": [
    "iso_forest = IsolationForest(n_estimators=100, contamination=0.05)"
   ]
  },
  {
   "cell_type": "code",
   "execution_count": null,
   "id": "08003691",
   "metadata": {},
   "outputs": [],
   "source": [
    "outliers = iso_forest.fit_predict(df_scaled)"
   ]
  },
  {
   "cell_type": "code",
   "execution_count": null,
   "id": "750fb233",
   "metadata": {},
   "outputs": [],
   "source": [
    "df['outlier'] = outliers"
   ]
  },
  {
   "cell_type": "code",
   "execution_count": null,
   "id": "685f16aa",
   "metadata": {},
   "outputs": [],
   "source": [
    "df_cleaned = df[df['outlier'] != -1]"
   ]
  },
  {
   "cell_type": "code",
   "execution_count": null,
   "id": "92d31252",
   "metadata": {},
   "outputs": [],
   "source": []
  },
  {
   "cell_type": "code",
   "execution_count": null,
   "id": "bda206f5",
   "metadata": {},
   "outputs": [],
   "source": [
    "# Visualizing Data"
   ]
  },
  {
   "cell_type": "code",
   "execution_count": null,
   "id": "37e87165",
   "metadata": {},
   "outputs": [],
   "source": [
    "fig, axes = plt.subplots(nrows=4, ncols=2, figsize=(12, 20))"
   ]
  },
  {
   "cell_type": "code",
   "execution_count": null,
   "id": "c21d29bd",
   "metadata": {},
   "outputs": [],
   "source": [
    "axes = axes.flatten()"
   ]
  },
  {
   "cell_type": "code",
   "execution_count": null,
   "id": "5eb1f326",
   "metadata": {},
   "outputs": [],
   "source": [
    "for i, col in enumerate(scaled_columns):"
   ]
  },
  {
   "cell_type": "code",
   "execution_count": null,
   "id": "0414e439",
   "metadata": {},
   "outputs": [],
   "source": [
    "    sns.boxplot(x=df[col], ax=axes[2*i])"
   ]
  },
  {
   "cell_type": "code",
   "execution_count": null,
   "id": "3a48f1c5",
   "metadata": {},
   "outputs": [],
   "source": [
    "    sns.boxplot(x=df_cleaned[col], ax=axes[2*i + 1])"
   ]
  },
  {
   "cell_type": "code",
   "execution_count": null,
   "id": "6cbe91ec",
   "metadata": {},
   "outputs": [],
   "source": [
    "plt.tight_layout()"
   ]
  },
  {
   "cell_type": "code",
   "execution_count": null,
   "id": "c8ac9696",
   "metadata": {},
   "outputs": [],
   "source": [
    "plt.show()"
   ]
  },
  {
   "cell_type": "code",
   "execution_count": null,
   "id": "2f16d449",
   "metadata": {},
   "outputs": [],
   "source": []
  },
  {
   "cell_type": "code",
   "execution_count": null,
   "id": "b64a67a4",
   "metadata": {},
   "outputs": [],
   "source": [
    "plt.figure(figsize=(8, 4))"
   ]
  },
  {
   "cell_type": "code",
   "execution_count": null,
   "id": "e8884590",
   "metadata": {},
   "outputs": [],
   "source": [
    "sns.histplot(df['heart_rate'].dropna(), kde=True)"
   ]
  },
  {
   "cell_type": "code",
   "execution_count": null,
   "id": "0db7ce0e",
   "metadata": {},
   "outputs": [],
   "source": [
    "plt.show()"
   ]
  },
  {
   "cell_type": "code",
   "execution_count": null,
   "id": "fd8871dd",
   "metadata": {},
   "outputs": [],
   "source": []
  },
  {
   "cell_type": "code",
   "execution_count": null,
   "id": "9c3df4a4",
   "metadata": {},
   "outputs": [],
   "source": [
    "if df['heart_rate'].isnull().any():"
   ]
  },
  {
   "cell_type": "code",
   "execution_count": null,
   "id": "b1b1737f",
   "metadata": {},
   "outputs": [],
   "source": [
    "    model = LinearRegression()"
   ]
  },
  {
   "cell_type": "code",
   "execution_count": null,
   "id": "afe51b93",
   "metadata": {},
   "outputs": [],
   "source": [
    "    train_df = df.dropna(subset=['heart_rate'])"
   ]
  },
  {
   "cell_type": "code",
   "execution_count": null,
   "id": "ea77c282",
   "metadata": {},
   "outputs": [],
   "source": [
    "    X_train = train_df[['age', 'weight', 'steps']]"
   ]
  },
  {
   "cell_type": "code",
   "execution_count": null,
   "id": "b612830e",
   "metadata": {},
   "outputs": [],
   "source": [
    "    y_train = train_df['heart_rate']"
   ]
  },
  {
   "cell_type": "code",
   "execution_count": null,
   "id": "a79df193",
   "metadata": {},
   "outputs": [],
   "source": [
    "    model.fit(X_train, y_train)"
   ]
  },
  {
   "cell_type": "code",
   "execution_count": null,
   "id": "e231f261",
   "metadata": {},
   "outputs": [],
   "source": [
    "    missing_values = df[df['heart_rate'].isnull()]"
   ]
  },
  {
   "cell_type": "code",
   "execution_count": null,
   "id": "f46f4626",
   "metadata": {},
   "outputs": [],
   "source": [
    "    X_missing = missing_values[['age', 'weight', 'steps']]"
   ]
  },
  {
   "cell_type": "code",
   "execution_count": null,
   "id": "230ff300",
   "metadata": {},
   "outputs": [],
   "source": [
    "    if not X_missing.empty:"
   ]
  },
  {
   "cell_type": "code",
   "execution_count": null,
   "id": "b3ee461d",
   "metadata": {},
   "outputs": [],
   "source": [
    "        predicted_values = model.predict(X_missing)"
   ]
  },
  {
   "cell_type": "code",
   "execution_count": null,
   "id": "72bff093",
   "metadata": {},
   "outputs": [],
   "source": [
    "        df.loc[df['heart_rate'].isnull(), 'heart_rate'] = predicted_values"
   ]
  },
  {
   "cell_type": "code",
   "execution_count": null,
   "id": "01850d07",
   "metadata": {},
   "outputs": [],
   "source": []
  },
  {
   "cell_type": "code",
   "execution_count": null,
   "id": "272bcc07",
   "metadata": {},
   "outputs": [],
   "source": [
    "plt.figure(figsize=(8, 4))"
   ]
  },
  {
   "cell_type": "code",
   "execution_count": null,
   "id": "8c52d0da",
   "metadata": {},
   "outputs": [],
   "source": [
    "sns.boxplot(x=df['heart_rate'])"
   ]
  },
  {
   "cell_type": "code",
   "execution_count": null,
   "id": "5e222810",
   "metadata": {},
   "outputs": [],
   "source": [
    "plt.show()"
   ]
  },
  {
   "cell_type": "code",
   "execution_count": null,
   "id": "b22f6082",
   "metadata": {},
   "outputs": [],
   "source": []
  },
  {
   "cell_type": "code",
   "execution_count": null,
   "id": "7098e80b",
   "metadata": {},
   "outputs": [],
   "source": [
    "df['heart_rate'] = df['heart_rate'].apply(lambda x: abs(x) if x < 0 else x)"
   ]
  },
  {
   "cell_type": "code",
   "execution_count": null,
   "id": "7a6ebf26",
   "metadata": {},
   "outputs": [],
   "source": [
    "plt.figure(figsize=(8, 4))"
   ]
  },
  {
   "cell_type": "code",
   "execution_count": null,
   "id": "7c1d0793",
   "metadata": {},
   "outputs": [],
   "source": [
    "sns.boxplot(x=df['heart_rate'])"
   ]
  },
  {
   "cell_type": "code",
   "execution_count": null,
   "id": "234dfa38",
   "metadata": {},
   "outputs": [],
   "source": [
    "plt.show()"
   ]
  },
  {
   "cell_type": "code",
   "execution_count": null,
   "id": "2936d828",
   "metadata": {},
   "outputs": [],
   "source": []
  },
  {
   "cell_type": "code",
   "execution_count": null,
   "id": "9e14b2dd",
   "metadata": {},
   "outputs": [],
   "source": [
    "# Adjust Activity Labels"
   ]
  },
  {
   "cell_type": "code",
   "execution_count": null,
   "id": "60b76679",
   "metadata": {},
   "outputs": [],
   "source": [
    "original_activities = df['activity'].copy()"
   ]
  },
  {
   "cell_type": "code",
   "execution_count": null,
   "id": "a007cc50",
   "metadata": {},
   "outputs": [],
   "source": [
    "df['activity'] = df['activity'].replace('Self Pace walk', 'Walking')"
   ]
  },
  {
   "cell_type": "code",
   "execution_count": null,
   "id": "c256e4d5",
   "metadata": {},
   "outputs": [],
   "source": [
    "def map_activities(activity):"
   ]
  },
  {
   "cell_type": "code",
   "execution_count": null,
   "id": "b38a66a7",
   "metadata": {},
   "outputs": [],
   "source": [
    "    if activity == \"Stnding\":"
   ]
  },
  {
   "cell_type": "code",
   "execution_count": null,
   "id": "96e641dd",
   "metadata": {},
   "outputs": [],
   "source": [
    "        return np.random.choice([\"Lying\", \"Sitting\", \"Walking\"])"
   ]
  },
  {
   "cell_type": "code",
   "execution_count": null,
   "id": "28c38a94",
   "metadata": {},
   "outputs": [],
   "source": [
    "    return activity"
   ]
  },
  {
   "cell_type": "code",
   "execution_count": null,
   "id": "9a041014",
   "metadata": {},
   "outputs": [],
   "source": [
    "df['activity'] = df['activity'].apply(map_activities)"
   ]
  },
  {
   "cell_type": "code",
   "execution_count": null,
   "id": "3de2c0e8",
   "metadata": {},
   "outputs": [],
   "source": []
  },
  {
   "cell_type": "code",
   "execution_count": null,
   "id": "eb91539b",
   "metadata": {},
   "outputs": [],
   "source": [
    "original_freq = original_activities.value_counts()"
   ]
  },
  {
   "cell_type": "code",
   "execution_count": null,
   "id": "8003352f",
   "metadata": {},
   "outputs": [],
   "source": [
    "corrected_freq = df['activity'].value_counts()"
   ]
  },
  {
   "cell_type": "code",
   "execution_count": null,
   "id": "02dd9c12",
   "metadata": {},
   "outputs": [],
   "source": [
    "plt.figure(figsize=(14, 6))"
   ]
  },
  {
   "cell_type": "code",
   "execution_count": null,
   "id": "e948e449",
   "metadata": {},
   "outputs": [],
   "source": [
    "plt.subplot(1, 2, 1)"
   ]
  },
  {
   "cell_type": "code",
   "execution_count": null,
   "id": "0ba705d2",
   "metadata": {},
   "outputs": [],
   "source": [
    "sns.barplot(x=original_freq.index, y=original_freq.values, palette=\"viridis\")"
   ]
  },
  {
   "cell_type": "code",
   "execution_count": null,
   "id": "b5dfc725",
   "metadata": {},
   "outputs": [],
   "source": [
    "plt.subplot(1, 2, 2)"
   ]
  },
  {
   "cell_type": "code",
   "execution_count": null,
   "id": "bb7f20b7",
   "metadata": {},
   "outputs": [],
   "source": [
    "sns.barplot(x=corrected_freq.index, y=corrected_freq.values, palette=\"viridis\")"
   ]
  },
  {
   "cell_type": "code",
   "execution_count": null,
   "id": "ef93b9e0",
   "metadata": {},
   "outputs": [],
   "source": [
    "plt.tight_layout()"
   ]
  },
  {
   "cell_type": "code",
   "execution_count": null,
   "id": "a8e8e7fc",
   "metadata": {},
   "outputs": [],
   "source": [
    "plt.show()"
   ]
  }
 ],
 "metadata": {},
 "nbformat": 4,
 "nbformat_minor": 5
}
