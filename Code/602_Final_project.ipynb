{
 "cells": [
  {
   "cell_type": "code",
   "execution_count": null,
   "id": "446c63fa",
   "metadata": {},
   "outputs": [],
   "source": [
    "# Model Selection"
   ]
  },
  {
   "cell_type": "code",
   "execution_count": null,
   "id": "9071ecaf",
   "metadata": {},
   "outputs": [],
   "source": [
    "# Load the clustered data"
   ]
  },
  {
   "cell_type": "code",
   "execution_count": null,
   "id": "7b71d1c2",
   "metadata": {},
   "outputs": [],
   "source": [
    "file_path = 'clustered_data.csv'"
   ]
  },
  {
   "cell_type": "code",
   "execution_count": null,
   "id": "b7cae922",
   "metadata": {},
   "outputs": [],
   "source": [
    "df = pd.read_csv(file_path)"
   ]
  },
  {
   "cell_type": "code",
   "execution_count": null,
   "id": "7b410667",
   "metadata": {},
   "outputs": [],
   "source": []
  },
  {
   "cell_type": "code",
   "execution_count": null,
   "id": "ca9c474e",
   "metadata": {},
   "outputs": [],
   "source": [
    "# Define features and target"
   ]
  },
  {
   "cell_type": "code",
   "execution_count": null,
   "id": "787646a6",
   "metadata": {},
   "outputs": [],
   "source": [
    "features = ['Principal Component 1', 'Principal Component 2', 'Principal Component 3', 'Principal Component 4']"
   ]
  },
  {
   "cell_type": "code",
   "execution_count": null,
   "id": "145150e4",
   "metadata": {},
   "outputs": [],
   "source": [
    "target = 'energy_level'"
   ]
  },
  {
   "cell_type": "code",
   "execution_count": null,
   "id": "73160254",
   "metadata": {},
   "outputs": [],
   "source": []
  },
  {
   "cell_type": "code",
   "execution_count": null,
   "id": "eb1dc0ca",
   "metadata": {},
   "outputs": [],
   "source": [
    "X = df[features]"
   ]
  },
  {
   "cell_type": "code",
   "execution_count": null,
   "id": "220622fd",
   "metadata": {},
   "outputs": [],
   "source": [
    "y = df[target]"
   ]
  },
  {
   "cell_type": "code",
   "execution_count": null,
   "id": "b266e004",
   "metadata": {},
   "outputs": [],
   "source": []
  },
  {
   "cell_type": "code",
   "execution_count": null,
   "id": "cc86f82b",
   "metadata": {},
   "outputs": [],
   "source": [
    "# Split the data"
   ]
  },
  {
   "cell_type": "code",
   "execution_count": null,
   "id": "1c554b6e",
   "metadata": {},
   "outputs": [],
   "source": [
    "X_train, X_test, y_train, y_test = train_test_split(X, y, test_size=0.2, random_state=42)"
   ]
  },
  {
   "cell_type": "code",
   "execution_count": null,
   "id": "3ab7e97d",
   "metadata": {},
   "outputs": [],
   "source": [
    "# Function to evaluate models"
   ]
  },
  {
   "cell_type": "code",
   "execution_count": null,
   "id": "c896a8de",
   "metadata": {},
   "outputs": [],
   "source": [
    "def evaluate_model(model, X_train, X_test, y_train, y_test):"
   ]
  },
  {
   "cell_type": "code",
   "execution_count": null,
   "id": "c6a502ab",
   "metadata": {},
   "outputs": [],
   "source": [
    "    model.fit(X_train, y_train)"
   ]
  },
  {
   "cell_type": "code",
   "execution_count": null,
   "id": "dd6c87bd",
   "metadata": {},
   "outputs": [],
   "source": [
    "    y_pred = model.predict(X_test)"
   ]
  },
  {
   "cell_type": "code",
   "execution_count": null,
   "id": "ef2f8c43",
   "metadata": {},
   "outputs": [],
   "source": [
    "    mae = mean_absolute_error(y_test, y_pred)"
   ]
  },
  {
   "cell_type": "code",
   "execution_count": null,
   "id": "81658ce4",
   "metadata": {},
   "outputs": [],
   "source": [
    "    mse = mean_squared_error(y_test, y_pred)"
   ]
  },
  {
   "cell_type": "code",
   "execution_count": null,
   "id": "4a76ba45",
   "metadata": {},
   "outputs": [],
   "source": [
    "    r2 = r2_score(y_test, y_pred)"
   ]
  },
  {
   "cell_type": "code",
   "execution_count": null,
   "id": "5dde8ed1",
   "metadata": {},
   "outputs": [],
   "source": [
    "    return {'MAE': mae, 'MSE': mse, 'R2': r2}"
   ]
  },
  {
   "cell_type": "code",
   "execution_count": null,
   "id": "86f9edac",
   "metadata": {},
   "outputs": [],
   "source": [
    "## Evaluate Models"
   ]
  },
  {
   "cell_type": "code",
   "execution_count": null,
   "id": "db59b74a",
   "metadata": {},
   "outputs": [],
   "source": [
    "# Models to evaluate"
   ]
  },
  {
   "cell_type": "code",
   "execution_count": null,
   "id": "a787e41d",
   "metadata": {},
   "outputs": [],
   "source": [
    "models = {"
   ]
  },
  {
   "cell_type": "code",
   "execution_count": null,
   "id": "a23a9f15",
   "metadata": {},
   "outputs": [],
   "source": [
    "    'Random Forest': RandomForestRegressor(n_estimators=100, random_state=42),"
   ]
  },
  {
   "cell_type": "code",
   "execution_count": null,
   "id": "c9db1cd9",
   "metadata": {},
   "outputs": [],
   "source": [
    "    'Gradient Boosting': GradientBoostingRegressor(n_estimators=100, random_state=42),"
   ]
  },
  {
   "cell_type": "code",
   "execution_count": null,
   "id": "106e77da",
   "metadata": {},
   "outputs": [],
   "source": [
    "    'Neural Network': MLPRegressor(hidden_layer_sizes=(50, 50), max_iter=500, random_state=42)"
   ]
  },
  {
   "cell_type": "code",
   "execution_count": null,
   "id": "06df0d37",
   "metadata": {},
   "outputs": [],
   "source": [
    "}"
   ]
  },
  {
   "cell_type": "code",
   "execution_count": null,
   "id": "98feed20",
   "metadata": {},
   "outputs": [],
   "source": [
    "results = {}"
   ]
  },
  {
   "cell_type": "code",
   "execution_count": null,
   "id": "392ca66f",
   "metadata": {},
   "outputs": [],
   "source": [
    "for name, model in models.items():"
   ]
  },
  {
   "cell_type": "code",
   "execution_count": null,
   "id": "a4331935",
   "metadata": {},
   "outputs": [],
   "source": [
    "    results[name] = evaluate_model(model, X_train, X_test, y_train, y_test)"
   ]
  },
  {
   "cell_type": "code",
   "execution_count": null,
   "id": "5d16eeb7",
   "metadata": {},
   "outputs": [],
   "source": [
    "    print(f\"{name} - MAE: {results[name]['MAE']}, MSE: {results[name]['MSE']}, R2: {results[name]['R2']}\")"
   ]
  },
  {
   "cell_type": "code",
   "execution_count": null,
   "id": "09cd47e3",
   "metadata": {},
   "outputs": [],
   "source": [
    "# Cross-validation"
   ]
  },
  {
   "cell_type": "code",
   "execution_count": null,
   "id": "5b1d944a",
   "metadata": {},
   "outputs": [],
   "source": [
    "for name, model in models.items():"
   ]
  },
  {
   "cell_type": "code",
   "execution_count": null,
   "id": "3dced3ff",
   "metadata": {},
   "outputs": [],
   "source": [
    "    cv_scores = cross_val_score(model, X, y, cv=5, scoring='r2')"
   ]
  },
  {
   "cell_type": "code",
   "execution_count": null,
   "id": "1471bea1",
   "metadata": {},
   "outputs": [],
   "source": [
    "    print(f\"{name} - Cross-Validated R-squared: {cv_scores.mean()}\")"
   ]
  },
  {
   "cell_type": "code",
   "execution_count": null,
   "id": "27d36029",
   "metadata": {},
   "outputs": [],
   "source": [
    "# Save the results"
   ]
  },
  {
   "cell_type": "code",
   "execution_count": null,
   "id": "08b2bd54",
   "metadata": {},
   "outputs": [],
   "source": [
    "results_df = pd.DataFrame(results).T"
   ]
  },
  {
   "cell_type": "code",
   "execution_count": null,
   "id": "a51e39a4",
   "metadata": {},
   "outputs": [],
   "source": [
    "results_df.to_csv('model_evaluation_results.csv')"
   ]
  },
  {
   "cell_type": "code",
   "execution_count": null,
   "id": "d5f5df34",
   "metadata": {},
   "outputs": [],
   "source": [
    "print(\"Model evaluation results saved to 'model_evaluation_results.csv'\")"
   ]
  },
  {
   "cell_type": "code",
   "execution_count": null,
   "id": "022eca89",
   "metadata": {},
   "outputs": [],
   "source": []
  },
  {
   "cell_type": "code",
   "execution_count": null,
   "id": "908dcb2f",
   "metadata": {},
   "outputs": [],
   "source": []
  },
  {
   "cell_type": "code",
   "execution_count": null,
   "id": "43c525e3",
   "metadata": {},
   "outputs": [],
   "source": [
    "## Trying extra Trees Regressor"
   ]
  },
  {
   "cell_type": "code",
   "execution_count": null,
   "id": "5cf049b1",
   "metadata": {},
   "outputs": [],
   "source": [
    "from sklearn.preprocessing import StandardScaler"
   ]
  },
  {
   "cell_type": "code",
   "execution_count": null,
   "id": "e93fbe4d",
   "metadata": {},
   "outputs": [],
   "source": [
    "from sklearn.ensemble import ExtraTreesRegressor"
   ]
  },
  {
   "cell_type": "code",
   "execution_count": null,
   "id": "64808215",
   "metadata": {},
   "outputs": [],
   "source": [
    "import numpy as np"
   ]
  },
  {
   "cell_type": "code",
   "execution_count": null,
   "id": "05bdd4b3",
   "metadata": {},
   "outputs": [],
   "source": [
    "from sklearn.metrics import mean_absolute_error, mean_squared_error, r2_score"
   ]
  },
  {
   "cell_type": "code",
   "execution_count": null,
   "id": "2eb72b54",
   "metadata": {},
   "outputs": [],
   "source": []
  },
  {
   "cell_type": "code",
   "execution_count": null,
   "id": "015e7759",
   "metadata": {},
   "outputs": [],
   "source": [
    "# Assuming you want to scale the target variable"
   ]
  },
  {
   "cell_type": "code",
   "execution_count": null,
   "id": "b8506281",
   "metadata": {},
   "outputs": [],
   "source": [
    "scaler_y = StandardScaler()"
   ]
  },
  {
   "cell_type": "code",
   "execution_count": null,
   "id": "63ee40ef",
   "metadata": {},
   "outputs": [],
   "source": [
    "y_train_scaled = scaler_y.fit_transform(y_train.reshape(-1, 1)).flatten()"
   ]
  },
  {
   "cell_type": "code",
   "execution_count": null,
   "id": "4b52eb4c",
   "metadata": {},
   "outputs": [],
   "source": [
    "y_test_scaled = scaler_y.transform(y_test.reshape(-1, 1)).flatten()"
   ]
  }
 ],
 "metadata": {},
 "nbformat": 4,
 "nbformat_minor": 5
}
