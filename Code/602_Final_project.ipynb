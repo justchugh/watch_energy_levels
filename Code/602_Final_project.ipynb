{
 "cells": [
  {
   "cell_type": "code",
   "execution_count": null,
   "id": "e0fdec76",
   "metadata": {},
   "outputs": [],
   "source": [
    "# Mounting"
   ]
  },
  {
   "cell_type": "code",
   "execution_count": null,
   "id": "4e8c5a12",
   "metadata": {},
   "outputs": [],
   "source": [
    "from google.colab import drive"
   ]
  },
  {
   "cell_type": "code",
   "execution_count": null,
   "id": "9f944436",
   "metadata": {},
   "outputs": [],
   "source": [
    "drive.mount('/content/drive')"
   ]
  },
  {
   "cell_type": "code",
   "execution_count": null,
   "id": "784d1047",
   "metadata": {},
   "outputs": [],
   "source": [
    "%cd /content/drive/MyDrive/602/3"
   ]
  },
  {
   "cell_type": "code",
   "execution_count": null,
   "id": "33fbe43d",
   "metadata": {},
   "outputs": [],
   "source": []
  },
  {
   "cell_type": "code",
   "execution_count": null,
   "id": "f141af01",
   "metadata": {},
   "outputs": [],
   "source": [
    "# Importing Libraries"
   ]
  },
  {
   "cell_type": "code",
   "execution_count": null,
   "id": "3981968b",
   "metadata": {},
   "outputs": [],
   "source": [
    "import pandas as pd"
   ]
  },
  {
   "cell_type": "code",
   "execution_count": null,
   "id": "1611be48",
   "metadata": {},
   "outputs": [],
   "source": [
    "import numpy as np"
   ]
  },
  {
   "cell_type": "code",
   "execution_count": null,
   "id": "d8c8fa1e",
   "metadata": {},
   "outputs": [],
   "source": [
    "import matplotlib.pyplot as plt"
   ]
  },
  {
   "cell_type": "code",
   "execution_count": null,
   "id": "134451da",
   "metadata": {},
   "outputs": [],
   "source": [
    "import seaborn as sns"
   ]
  },
  {
   "cell_type": "code",
   "execution_count": null,
   "id": "466761d0",
   "metadata": {},
   "outputs": [],
   "source": [
    "from sklearn.impute import KNNImputer"
   ]
  },
  {
   "cell_type": "code",
   "execution_count": null,
   "id": "1263a253",
   "metadata": {},
   "outputs": [],
   "source": [
    "from sklearn.ensemble import IsolationForest"
   ]
  },
  {
   "cell_type": "code",
   "execution_count": null,
   "id": "8366d9e1",
   "metadata": {},
   "outputs": [],
   "source": [
    "from sklearn.preprocessing import RobustScaler, StandardScaler"
   ]
  },
  {
   "cell_type": "code",
   "execution_count": null,
   "id": "b6c4a8b1",
   "metadata": {},
   "outputs": [],
   "source": [
    "from sklearn.linear_model import LinearRegression"
   ]
  },
  {
   "cell_type": "code",
   "execution_count": null,
   "id": "f61c0fc4",
   "metadata": {},
   "outputs": [],
   "source": [
    "from sklearn.decomposition import PCA"
   ]
  },
  {
   "cell_type": "code",
   "execution_count": null,
   "id": "1648417a",
   "metadata": {},
   "outputs": [],
   "source": [
    "from sklearn.cluster import KMeans"
   ]
  },
  {
   "cell_type": "code",
   "execution_count": null,
   "id": "e3f75890",
   "metadata": {},
   "outputs": [],
   "source": [
    "from sklearn.model_selection import train_test_split, cross_val_score"
   ]
  },
  {
   "cell_type": "code",
   "execution_count": null,
   "id": "36e066b8",
   "metadata": {},
   "outputs": [],
   "source": [
    "from sklearn.ensemble import RandomForestRegressor, GradientBoostingRegressor"
   ]
  },
  {
   "cell_type": "code",
   "execution_count": null,
   "id": "eee99d48",
   "metadata": {},
   "outputs": [],
   "source": [
    "from sklearn.metrics import mean_absolute_error, mean_squared_error, r2_score"
   ]
  },
  {
   "cell_type": "code",
   "execution_count": null,
   "id": "f508ed51",
   "metadata": {},
   "outputs": [],
   "source": [
    "from sklearn.neural_network import MLPRegressor"
   ]
  },
  {
   "cell_type": "code",
   "execution_count": null,
   "id": "3611935d",
   "metadata": {},
   "outputs": [],
   "source": []
  },
  {
   "cell_type": "code",
   "execution_count": null,
   "id": "c0b2f759",
   "metadata": {},
   "outputs": [],
   "source": [
    "file_path = 'apple_watch_data.csv'"
   ]
  },
  {
   "cell_type": "code",
   "execution_count": null,
   "id": "42deee8e",
   "metadata": {},
   "outputs": [],
   "source": [
    "df = pd.read_csv(file_path)"
   ]
  },
  {
   "cell_type": "code",
   "execution_count": null,
   "id": "4aab3dc4",
   "metadata": {},
   "outputs": [],
   "source": []
  },
  {
   "cell_type": "code",
   "execution_count": null,
   "id": "c865a241",
   "metadata": {},
   "outputs": [],
   "source": [
    "# Understanding Data"
   ]
  },
  {
   "cell_type": "code",
   "execution_count": null,
   "id": "05416a0b",
   "metadata": {},
   "outputs": [],
   "source": [
    "df.head(5)"
   ]
  },
  {
   "cell_type": "code",
   "execution_count": null,
   "id": "19b1ffac",
   "metadata": {},
   "outputs": [],
   "source": [
    "print(\"Dataset Head:\")"
   ]
  },
  {
   "cell_type": "code",
   "execution_count": null,
   "id": "2ec6954a",
   "metadata": {},
   "outputs": [],
   "source": [
    "print(df.head())"
   ]
  },
  {
   "cell_type": "code",
   "execution_count": null,
   "id": "df4e7d80",
   "metadata": {},
   "outputs": [],
   "source": [
    "print(\"\\nDataset Info:\")"
   ]
  },
  {
   "cell_type": "code",
   "execution_count": null,
   "id": "a27c3d31",
   "metadata": {},
   "outputs": [],
   "source": [
    "print(df.info())"
   ]
  },
  {
   "cell_type": "code",
   "execution_count": null,
   "id": "d02b34b5",
   "metadata": {},
   "outputs": [],
   "source": [
    "print(\"\\nDescriptive Statistics:\")"
   ]
  },
  {
   "cell_type": "code",
   "execution_count": null,
   "id": "bb539766",
   "metadata": {},
   "outputs": [],
   "source": [
    "print(df.describe())"
   ]
  },
  {
   "cell_type": "code",
   "execution_count": null,
   "id": "38771777",
   "metadata": {},
   "outputs": [],
   "source": [
    "print(\"\\nMissing Values Initially:\")"
   ]
  },
  {
   "cell_type": "code",
   "execution_count": null,
   "id": "e3e66b9b",
   "metadata": {},
   "outputs": [],
   "source": [
    "print(df.isnull().sum())"
   ]
  },
  {
   "cell_type": "code",
   "execution_count": null,
   "id": "2d225003",
   "metadata": {},
   "outputs": [],
   "source": []
  },
  {
   "cell_type": "code",
   "execution_count": null,
   "id": "1b689084",
   "metadata": {},
   "outputs": [],
   "source": [
    "# Cleaning Missing Values"
   ]
  },
  {
   "cell_type": "code",
   "execution_count": null,
   "id": "a8261a28",
   "metadata": {},
   "outputs": [],
   "source": [
    "df = df.rename(columns={"
   ]
  },
  {
   "cell_type": "code",
   "execution_count": null,
   "id": "28234423",
   "metadata": {},
   "outputs": [],
   "source": [
    "    'hear_rate': 'heart_rate',"
   ]
  },
  {
   "cell_type": "code",
   "execution_count": null,
   "id": "35ca7018",
   "metadata": {},
   "outputs": [],
   "source": [
    "    'entropy_setps': 'entropy_steps'"
   ]
  },
  {
   "cell_type": "code",
   "execution_count": null,
   "id": "465ad1f7",
   "metadata": {},
   "outputs": [],
   "source": [
    "})"
   ]
  },
  {
   "cell_type": "code",
   "execution_count": null,
   "id": "6d305bd7",
   "metadata": {},
   "outputs": [],
   "source": [
    "knn_imputer = KNNImputer(n_neighbors=5)"
   ]
  },
  {
   "cell_type": "code",
   "execution_count": null,
   "id": "46c49dd5",
   "metadata": {},
   "outputs": [],
   "source": [
    "df[['steps', 'calories', 'distance']] = knn_imputer.fit_transform(df[['steps', 'calories', 'distance']])"
   ]
  },
  {
   "cell_type": "code",
   "execution_count": null,
   "id": "b15b1c69",
   "metadata": {},
   "outputs": [],
   "source": [
    "df['heart_rate'] = df['heart_rate'].fillna(method='ffill')"
   ]
  },
  {
   "cell_type": "code",
   "execution_count": null,
   "id": "cf826ba8",
   "metadata": {},
   "outputs": [],
   "source": [
    "print(\"\\nMissing Values After Cleaning:\")"
   ]
  },
  {
   "cell_type": "code",
   "execution_count": null,
   "id": "f6da62ed",
   "metadata": {},
   "outputs": [],
   "source": [
    "print(df.isnull().sum())"
   ]
  },
  {
   "cell_type": "code",
   "execution_count": null,
   "id": "bf66708d",
   "metadata": {},
   "outputs": [],
   "source": []
  },
  {
   "cell_type": "code",
   "execution_count": null,
   "id": "d772cd19",
   "metadata": {},
   "outputs": [],
   "source": [
    "# Handling Outliers and Invalid Entries"
   ]
  },
  {
   "cell_type": "code",
   "execution_count": null,
   "id": "59f8326d",
   "metadata": {},
   "outputs": [],
   "source": [
    "df['heart_rate'] = pd.to_numeric(df['heart_rate'], errors='coerce')"
   ]
  },
  {
   "cell_type": "code",
   "execution_count": null,
   "id": "5fd8cb32",
   "metadata": {},
   "outputs": [],
   "source": [
    "df.dropna(subset=['heart_rate', 'steps', 'calories', 'distance'], inplace=True)"
   ]
  },
  {
   "cell_type": "code",
   "execution_count": null,
   "id": "27dfa959",
   "metadata": {},
   "outputs": [],
   "source": [
    "scaler = RobustScaler()"
   ]
  },
  {
   "cell_type": "code",
   "execution_count": null,
   "id": "8432afdb",
   "metadata": {},
   "outputs": [],
   "source": [
    "scaled_columns = ['heart_rate', 'steps', 'calories', 'distance']"
   ]
  },
  {
   "cell_type": "code",
   "execution_count": null,
   "id": "ae810cc3",
   "metadata": {},
   "outputs": [],
   "source": [
    "df_scaled = scaler.fit_transform(df[scaled_columns])"
   ]
  },
  {
   "cell_type": "code",
   "execution_count": null,
   "id": "d6146855",
   "metadata": {},
   "outputs": [],
   "source": [
    "df_scaled = pd.DataFrame(df_scaled, columns=scaled_columns)"
   ]
  },
  {
   "cell_type": "code",
   "execution_count": null,
   "id": "57511e87",
   "metadata": {},
   "outputs": [],
   "source": []
  },
  {
   "cell_type": "code",
   "execution_count": null,
   "id": "529176b5",
   "metadata": {},
   "outputs": [],
   "source": [
    "iso_forest = IsolationForest(n_estimators=100, contamination=0.05)"
   ]
  },
  {
   "cell_type": "code",
   "execution_count": null,
   "id": "d93e693b",
   "metadata": {},
   "outputs": [],
   "source": [
    "outliers = iso_forest.fit_predict(df_scaled)"
   ]
  },
  {
   "cell_type": "code",
   "execution_count": null,
   "id": "ec24ab37",
   "metadata": {},
   "outputs": [],
   "source": [
    "df['outlier'] = outliers"
   ]
  },
  {
   "cell_type": "code",
   "execution_count": null,
   "id": "8fa49147",
   "metadata": {},
   "outputs": [],
   "source": [
    "df_cleaned = df[df['outlier'] != -1]"
   ]
  },
  {
   "cell_type": "code",
   "execution_count": null,
   "id": "3d398789",
   "metadata": {},
   "outputs": [],
   "source": []
  },
  {
   "cell_type": "code",
   "execution_count": null,
   "id": "77aa76c2",
   "metadata": {},
   "outputs": [],
   "source": [
    "# Visualizing Data"
   ]
  },
  {
   "cell_type": "code",
   "execution_count": null,
   "id": "062ccba3",
   "metadata": {},
   "outputs": [],
   "source": [
    "fig, axes = plt.subplots(nrows=4, ncols=2, figsize=(12, 20))"
   ]
  },
  {
   "cell_type": "code",
   "execution_count": null,
   "id": "6a70edbc",
   "metadata": {},
   "outputs": [],
   "source": [
    "axes = axes.flatten()"
   ]
  },
  {
   "cell_type": "code",
   "execution_count": null,
   "id": "fbda0e1c",
   "metadata": {},
   "outputs": [],
   "source": [
    "for i, col in enumerate(scaled_columns):"
   ]
  },
  {
   "cell_type": "code",
   "execution_count": null,
   "id": "49d85443",
   "metadata": {},
   "outputs": [],
   "source": [
    "    sns.boxplot(x=df[col], ax=axes[2*i])"
   ]
  },
  {
   "cell_type": "code",
   "execution_count": null,
   "id": "151972a7",
   "metadata": {},
   "outputs": [],
   "source": [
    "    sns.boxplot(x=df_cleaned[col], ax=axes[2*i + 1])"
   ]
  },
  {
   "cell_type": "code",
   "execution_count": null,
   "id": "c8ba0f5c",
   "metadata": {},
   "outputs": [],
   "source": [
    "plt.tight_layout()"
   ]
  },
  {
   "cell_type": "code",
   "execution_count": null,
   "id": "cf0dfc3c",
   "metadata": {},
   "outputs": [],
   "source": [
    "plt.show()"
   ]
  },
  {
   "cell_type": "code",
   "execution_count": null,
   "id": "95849aca",
   "metadata": {},
   "outputs": [],
   "source": []
  },
  {
   "cell_type": "code",
   "execution_count": null,
   "id": "f0a3e5f4",
   "metadata": {},
   "outputs": [],
   "source": [
    "plt.figure(figsize=(8, 4))"
   ]
  },
  {
   "cell_type": "code",
   "execution_count": null,
   "id": "ccd40aa3",
   "metadata": {},
   "outputs": [],
   "source": [
    "sns.histplot(df['heart_rate'].dropna(), kde=True)"
   ]
  },
  {
   "cell_type": "code",
   "execution_count": null,
   "id": "666e8903",
   "metadata": {},
   "outputs": [],
   "source": [
    "plt.show()"
   ]
  },
  {
   "cell_type": "code",
   "execution_count": null,
   "id": "b29331f5",
   "metadata": {},
   "outputs": [],
   "source": []
  },
  {
   "cell_type": "code",
   "execution_count": null,
   "id": "6277db56",
   "metadata": {},
   "outputs": [],
   "source": [
    "if df['heart_rate'].isnull().any():"
   ]
  },
  {
   "cell_type": "code",
   "execution_count": null,
   "id": "94640929",
   "metadata": {},
   "outputs": [],
   "source": [
    "    model = LinearRegression()"
   ]
  },
  {
   "cell_type": "code",
   "execution_count": null,
   "id": "39df4fb5",
   "metadata": {},
   "outputs": [],
   "source": [
    "    train_df = df.dropna(subset=['heart_rate'])"
   ]
  },
  {
   "cell_type": "code",
   "execution_count": null,
   "id": "e93ded6d",
   "metadata": {},
   "outputs": [],
   "source": [
    "    X_train = train_df[['age', 'weight', 'steps']]"
   ]
  },
  {
   "cell_type": "code",
   "execution_count": null,
   "id": "9a5125b9",
   "metadata": {},
   "outputs": [],
   "source": [
    "    y_train = train_df['heart_rate']"
   ]
  },
  {
   "cell_type": "code",
   "execution_count": null,
   "id": "42dcee98",
   "metadata": {},
   "outputs": [],
   "source": [
    "    model.fit(X_train, y_train)"
   ]
  },
  {
   "cell_type": "code",
   "execution_count": null,
   "id": "851cfb9f",
   "metadata": {},
   "outputs": [],
   "source": [
    "    missing_values = df[df['heart_rate'].isnull()]"
   ]
  },
  {
   "cell_type": "code",
   "execution_count": null,
   "id": "375d09f8",
   "metadata": {},
   "outputs": [],
   "source": [
    "    X_missing = missing_values[['age', 'weight', 'steps']]"
   ]
  },
  {
   "cell_type": "code",
   "execution_count": null,
   "id": "532d33eb",
   "metadata": {},
   "outputs": [],
   "source": [
    "    if not X_missing.empty:"
   ]
  },
  {
   "cell_type": "code",
   "execution_count": null,
   "id": "5084b78e",
   "metadata": {},
   "outputs": [],
   "source": [
    "        predicted_values = model.predict(X_missing)"
   ]
  },
  {
   "cell_type": "code",
   "execution_count": null,
   "id": "fccc4743",
   "metadata": {},
   "outputs": [],
   "source": [
    "        df.loc[df['heart_rate'].isnull(), 'heart_rate'] = predicted_values"
   ]
  },
  {
   "cell_type": "code",
   "execution_count": null,
   "id": "cf197cac",
   "metadata": {},
   "outputs": [],
   "source": []
  },
  {
   "cell_type": "code",
   "execution_count": null,
   "id": "94aef835",
   "metadata": {},
   "outputs": [],
   "source": [
    "plt.figure(figsize=(8, 4))"
   ]
  },
  {
   "cell_type": "code",
   "execution_count": null,
   "id": "fb46b6f2",
   "metadata": {},
   "outputs": [],
   "source": [
    "sns.boxplot(x=df['heart_rate'])"
   ]
  },
  {
   "cell_type": "code",
   "execution_count": null,
   "id": "416875e8",
   "metadata": {},
   "outputs": [],
   "source": [
    "plt.show()"
   ]
  },
  {
   "cell_type": "code",
   "execution_count": null,
   "id": "b5a6f27a",
   "metadata": {},
   "outputs": [],
   "source": []
  },
  {
   "cell_type": "code",
   "execution_count": null,
   "id": "ba8041e0",
   "metadata": {},
   "outputs": [],
   "source": [
    "df['heart_rate'] = df['heart_rate'].apply(lambda x: abs(x) if x < 0 else x)"
   ]
  },
  {
   "cell_type": "code",
   "execution_count": null,
   "id": "826a2735",
   "metadata": {},
   "outputs": [],
   "source": [
    "plt.figure(figsize=(8, 4))"
   ]
  },
  {
   "cell_type": "code",
   "execution_count": null,
   "id": "b7bc9cf2",
   "metadata": {},
   "outputs": [],
   "source": [
    "sns.boxplot(x=df['heart_rate'])"
   ]
  },
  {
   "cell_type": "code",
   "execution_count": null,
   "id": "f87dc4d9",
   "metadata": {},
   "outputs": [],
   "source": [
    "plt.show()"
   ]
  },
  {
   "cell_type": "code",
   "execution_count": null,
   "id": "706e5567",
   "metadata": {},
   "outputs": [],
   "source": []
  },
  {
   "cell_type": "code",
   "execution_count": null,
   "id": "1c24412b",
   "metadata": {},
   "outputs": [],
   "source": [
    "# Adjust Activity Labels"
   ]
  },
  {
   "cell_type": "code",
   "execution_count": null,
   "id": "64ab367a",
   "metadata": {},
   "outputs": [],
   "source": [
    "original_activities = df['activity'].copy()"
   ]
  },
  {
   "cell_type": "code",
   "execution_count": null,
   "id": "ba4e20c0",
   "metadata": {},
   "outputs": [],
   "source": [
    "df['activity'] = df['activity'].replace('Self Pace walk', 'Walking')"
   ]
  },
  {
   "cell_type": "code",
   "execution_count": null,
   "id": "f443977a",
   "metadata": {},
   "outputs": [],
   "source": [
    "def map_activities(activity):"
   ]
  },
  {
   "cell_type": "code",
   "execution_count": null,
   "id": "3695cb92",
   "metadata": {},
   "outputs": [],
   "source": [
    "    if activity == \"Stnding\":"
   ]
  },
  {
   "cell_type": "code",
   "execution_count": null,
   "id": "24376e8d",
   "metadata": {},
   "outputs": [],
   "source": [
    "        return np.random.choice([\"Lying\", \"Sitting\", \"Walking\"])"
   ]
  },
  {
   "cell_type": "code",
   "execution_count": null,
   "id": "75bc76d1",
   "metadata": {},
   "outputs": [],
   "source": [
    "    return activity"
   ]
  },
  {
   "cell_type": "code",
   "execution_count": null,
   "id": "357a884a",
   "metadata": {},
   "outputs": [],
   "source": [
    "df['activity'] = df['activity'].apply(map_activities)"
   ]
  },
  {
   "cell_type": "code",
   "execution_count": null,
   "id": "4f15d0e6",
   "metadata": {},
   "outputs": [],
   "source": []
  }
 ],
 "metadata": {},
 "nbformat": 4,
 "nbformat_minor": 5
}
