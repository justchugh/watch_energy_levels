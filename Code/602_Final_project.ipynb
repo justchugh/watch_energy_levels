{
 "cells": [
  {
   "cell_type": "code",
   "execution_count": null,
   "id": "9254719e",
   "metadata": {},
   "outputs": [],
   "source": [
    "# Mounting"
   ]
  },
  {
   "cell_type": "code",
   "execution_count": null,
   "id": "71dae6ef",
   "metadata": {},
   "outputs": [],
   "source": [
    "from google.colab import drive"
   ]
  },
  {
   "cell_type": "code",
   "execution_count": null,
   "id": "34ebdfac",
   "metadata": {},
   "outputs": [],
   "source": [
    "drive.mount('/content/drive')"
   ]
  },
  {
   "cell_type": "code",
   "execution_count": null,
   "id": "d33bd43f",
   "metadata": {},
   "outputs": [],
   "source": [
    "%cd /content/drive/MyDrive/602/3"
   ]
  },
  {
   "cell_type": "code",
   "execution_count": null,
   "id": "af0fbc5d",
   "metadata": {},
   "outputs": [],
   "source": []
  },
  {
   "cell_type": "code",
   "execution_count": null,
   "id": "5db8e26c",
   "metadata": {},
   "outputs": [],
   "source": [
    "# Importing Libraries"
   ]
  },
  {
   "cell_type": "code",
   "execution_count": null,
   "id": "be7bda9c",
   "metadata": {},
   "outputs": [],
   "source": [
    "import pandas as pd"
   ]
  },
  {
   "cell_type": "code",
   "execution_count": null,
   "id": "3b4e8fa8",
   "metadata": {},
   "outputs": [],
   "source": [
    "import numpy as np"
   ]
  },
  {
   "cell_type": "code",
   "execution_count": null,
   "id": "42416876",
   "metadata": {},
   "outputs": [],
   "source": [
    "import matplotlib.pyplot as plt"
   ]
  },
  {
   "cell_type": "code",
   "execution_count": null,
   "id": "9e9e27ec",
   "metadata": {},
   "outputs": [],
   "source": [
    "import seaborn as sns"
   ]
  },
  {
   "cell_type": "code",
   "execution_count": null,
   "id": "d2ec1e14",
   "metadata": {},
   "outputs": [],
   "source": [
    "from sklearn.impute import KNNImputer"
   ]
  },
  {
   "cell_type": "code",
   "execution_count": null,
   "id": "83a5cfd7",
   "metadata": {},
   "outputs": [],
   "source": [
    "from sklearn.ensemble import IsolationForest"
   ]
  },
  {
   "cell_type": "code",
   "execution_count": null,
   "id": "0839a86a",
   "metadata": {},
   "outputs": [],
   "source": [
    "from sklearn.preprocessing import RobustScaler, StandardScaler"
   ]
  },
  {
   "cell_type": "code",
   "execution_count": null,
   "id": "655ed6e6",
   "metadata": {},
   "outputs": [],
   "source": [
    "from sklearn.linear_model import LinearRegression"
   ]
  },
  {
   "cell_type": "code",
   "execution_count": null,
   "id": "8b62bbb8",
   "metadata": {},
   "outputs": [],
   "source": [
    "from sklearn.decomposition import PCA"
   ]
  },
  {
   "cell_type": "code",
   "execution_count": null,
   "id": "dd484f7a",
   "metadata": {},
   "outputs": [],
   "source": [
    "from sklearn.cluster import KMeans"
   ]
  },
  {
   "cell_type": "code",
   "execution_count": null,
   "id": "fc127449",
   "metadata": {},
   "outputs": [],
   "source": [
    "from sklearn.model_selection import train_test_split, cross_val_score"
   ]
  },
  {
   "cell_type": "code",
   "execution_count": null,
   "id": "d1721a8c",
   "metadata": {},
   "outputs": [],
   "source": [
    "from sklearn.ensemble import RandomForestRegressor, GradientBoostingRegressor"
   ]
  },
  {
   "cell_type": "code",
   "execution_count": null,
   "id": "872b060f",
   "metadata": {},
   "outputs": [],
   "source": [
    "from sklearn.metrics import mean_absolute_error, mean_squared_error, r2_score"
   ]
  },
  {
   "cell_type": "code",
   "execution_count": null,
   "id": "6f8fb211",
   "metadata": {},
   "outputs": [],
   "source": [
    "from sklearn.neural_network import MLPRegressor"
   ]
  },
  {
   "cell_type": "code",
   "execution_count": null,
   "id": "b128ce10",
   "metadata": {},
   "outputs": [],
   "source": []
  },
  {
   "cell_type": "code",
   "execution_count": null,
   "id": "681e0627",
   "metadata": {},
   "outputs": [],
   "source": [
    "file_path = 'apple_watch_data.csv'"
   ]
  },
  {
   "cell_type": "code",
   "execution_count": null,
   "id": "4183efe5",
   "metadata": {},
   "outputs": [],
   "source": [
    "df = pd.read_csv(file_path)"
   ]
  },
  {
   "cell_type": "code",
   "execution_count": null,
   "id": "97895a7d",
   "metadata": {},
   "outputs": [],
   "source": []
  },
  {
   "cell_type": "code",
   "execution_count": null,
   "id": "a40a4a0f",
   "metadata": {},
   "outputs": [],
   "source": [
    "# Understanding Data"
   ]
  },
  {
   "cell_type": "code",
   "execution_count": null,
   "id": "b35a857e",
   "metadata": {},
   "outputs": [],
   "source": [
    "df.head(5)"
   ]
  },
  {
   "cell_type": "code",
   "execution_count": null,
   "id": "ad0453e8",
   "metadata": {},
   "outputs": [],
   "source": [
    "print(\"Dataset Head:\")"
   ]
  },
  {
   "cell_type": "code",
   "execution_count": null,
   "id": "48702539",
   "metadata": {},
   "outputs": [],
   "source": [
    "print(df.head())"
   ]
  },
  {
   "cell_type": "code",
   "execution_count": null,
   "id": "cdc8d14c",
   "metadata": {},
   "outputs": [],
   "source": [
    "print(\"\\nDataset Info:\")"
   ]
  },
  {
   "cell_type": "code",
   "execution_count": null,
   "id": "702a25a3",
   "metadata": {},
   "outputs": [],
   "source": [
    "print(df.info())"
   ]
  },
  {
   "cell_type": "code",
   "execution_count": null,
   "id": "745b05e2",
   "metadata": {},
   "outputs": [],
   "source": [
    "print(\"\\nDescriptive Statistics:\")"
   ]
  },
  {
   "cell_type": "code",
   "execution_count": null,
   "id": "c1d2c0c2",
   "metadata": {},
   "outputs": [],
   "source": [
    "print(df.describe())"
   ]
  },
  {
   "cell_type": "code",
   "execution_count": null,
   "id": "0031750f",
   "metadata": {},
   "outputs": [],
   "source": [
    "print(\"\\nMissing Values Initially:\")"
   ]
  },
  {
   "cell_type": "code",
   "execution_count": null,
   "id": "e0d6bfe6",
   "metadata": {},
   "outputs": [],
   "source": [
    "print(df.isnull().sum())"
   ]
  },
  {
   "cell_type": "code",
   "execution_count": null,
   "id": "32a5222e",
   "metadata": {},
   "outputs": [],
   "source": []
  },
  {
   "cell_type": "code",
   "execution_count": null,
   "id": "090dc9b1",
   "metadata": {},
   "outputs": [],
   "source": [
    "# Cleaning Missing Values"
   ]
  },
  {
   "cell_type": "code",
   "execution_count": null,
   "id": "0560fa89",
   "metadata": {},
   "outputs": [],
   "source": [
    "df = df.rename(columns={"
   ]
  },
  {
   "cell_type": "code",
   "execution_count": null,
   "id": "6c7bb604",
   "metadata": {},
   "outputs": [],
   "source": [
    "    'hear_rate': 'heart_rate',"
   ]
  },
  {
   "cell_type": "code",
   "execution_count": null,
   "id": "3f9d635b",
   "metadata": {},
   "outputs": [],
   "source": [
    "    'entropy_setps': 'entropy_steps'"
   ]
  },
  {
   "cell_type": "code",
   "execution_count": null,
   "id": "e1da723e",
   "metadata": {},
   "outputs": [],
   "source": [
    "})"
   ]
  },
  {
   "cell_type": "code",
   "execution_count": null,
   "id": "eb0eebe3",
   "metadata": {},
   "outputs": [],
   "source": [
    "knn_imputer = KNNImputer(n_neighbors=5)"
   ]
  },
  {
   "cell_type": "code",
   "execution_count": null,
   "id": "a2487eca",
   "metadata": {},
   "outputs": [],
   "source": [
    "df[['steps', 'calories', 'distance']] = knn_imputer.fit_transform(df[['steps', 'calories', 'distance']])"
   ]
  },
  {
   "cell_type": "code",
   "execution_count": null,
   "id": "f17697be",
   "metadata": {},
   "outputs": [],
   "source": [
    "df['heart_rate'] = df['heart_rate'].fillna(method='ffill')"
   ]
  },
  {
   "cell_type": "code",
   "execution_count": null,
   "id": "0f0c8b37",
   "metadata": {},
   "outputs": [],
   "source": [
    "print(\"\\nMissing Values After Cleaning:\")"
   ]
  },
  {
   "cell_type": "code",
   "execution_count": null,
   "id": "bf44e152",
   "metadata": {},
   "outputs": [],
   "source": [
    "print(df.isnull().sum())"
   ]
  },
  {
   "cell_type": "code",
   "execution_count": null,
   "id": "66fac9ef",
   "metadata": {},
   "outputs": [],
   "source": []
  },
  {
   "cell_type": "code",
   "execution_count": null,
   "id": "8bb88545",
   "metadata": {},
   "outputs": [],
   "source": [
    "# Handling Outliers and Invalid Entries"
   ]
  },
  {
   "cell_type": "code",
   "execution_count": null,
   "id": "954fdf0e",
   "metadata": {},
   "outputs": [],
   "source": [
    "df['heart_rate'] = pd.to_numeric(df['heart_rate'], errors='coerce')"
   ]
  },
  {
   "cell_type": "code",
   "execution_count": null,
   "id": "2cd67a2b",
   "metadata": {},
   "outputs": [],
   "source": [
    "df.dropna(subset=['heart_rate', 'steps', 'calories', 'distance'], inplace=True)"
   ]
  },
  {
   "cell_type": "code",
   "execution_count": null,
   "id": "5ba8e5d0",
   "metadata": {},
   "outputs": [],
   "source": [
    "scaler = RobustScaler()"
   ]
  },
  {
   "cell_type": "code",
   "execution_count": null,
   "id": "20e7021a",
   "metadata": {},
   "outputs": [],
   "source": [
    "scaled_columns = ['heart_rate', 'steps', 'calories', 'distance']"
   ]
  },
  {
   "cell_type": "code",
   "execution_count": null,
   "id": "b2ce5e18",
   "metadata": {},
   "outputs": [],
   "source": [
    "df_scaled = scaler.fit_transform(df[scaled_columns])"
   ]
  },
  {
   "cell_type": "code",
   "execution_count": null,
   "id": "5fc427da",
   "metadata": {},
   "outputs": [],
   "source": [
    "df_scaled = pd.DataFrame(df_scaled, columns=scaled_columns)"
   ]
  },
  {
   "cell_type": "code",
   "execution_count": null,
   "id": "d1ee7df3",
   "metadata": {},
   "outputs": [],
   "source": []
  },
  {
   "cell_type": "code",
   "execution_count": null,
   "id": "bede8d7a",
   "metadata": {},
   "outputs": [],
   "source": [
    "iso_forest = IsolationForest(n_estimators=100, contamination=0.05)"
   ]
  },
  {
   "cell_type": "code",
   "execution_count": null,
   "id": "38d17aa2",
   "metadata": {},
   "outputs": [],
   "source": [
    "outliers = iso_forest.fit_predict(df_scaled)"
   ]
  },
  {
   "cell_type": "code",
   "execution_count": null,
   "id": "255af284",
   "metadata": {},
   "outputs": [],
   "source": [
    "df['outlier'] = outliers"
   ]
  },
  {
   "cell_type": "code",
   "execution_count": null,
   "id": "4f2390e5",
   "metadata": {},
   "outputs": [],
   "source": [
    "df_cleaned = df[df['outlier'] != -1]"
   ]
  },
  {
   "cell_type": "code",
   "execution_count": null,
   "id": "1ecb02fd",
   "metadata": {},
   "outputs": [],
   "source": []
  },
  {
   "cell_type": "code",
   "execution_count": null,
   "id": "0d53ba85",
   "metadata": {},
   "outputs": [],
   "source": [
    "# Visualizing Data"
   ]
  },
  {
   "cell_type": "code",
   "execution_count": null,
   "id": "5061b6b9",
   "metadata": {},
   "outputs": [],
   "source": [
    "fig, axes = plt.subplots(nrows=4, ncols=2, figsize=(12, 20))"
   ]
  },
  {
   "cell_type": "code",
   "execution_count": null,
   "id": "32a9441c",
   "metadata": {},
   "outputs": [],
   "source": [
    "axes = axes.flatten()"
   ]
  },
  {
   "cell_type": "code",
   "execution_count": null,
   "id": "eb30d197",
   "metadata": {},
   "outputs": [],
   "source": [
    "for i, col in enumerate(scaled_columns):"
   ]
  },
  {
   "cell_type": "code",
   "execution_count": null,
   "id": "67e292f3",
   "metadata": {},
   "outputs": [],
   "source": [
    "sns.boxplot(x=df[col], ax=axes[2*i])"
   ]
  },
  {
   "cell_type": "code",
   "execution_count": null,
   "id": "ffcc29ae",
   "metadata": {},
   "outputs": [],
   "source": [
    "sns.boxplot(x=df_cleaned[col], ax=axes[2*i + 1])"
   ]
  },
  {
   "cell_type": "code",
   "execution_count": null,
   "id": "32f670ed",
   "metadata": {},
   "outputs": [],
   "source": [
    "plt.tight_layout()"
   ]
  },
  {
   "cell_type": "code",
   "execution_count": null,
   "id": "57111117",
   "metadata": {},
   "outputs": [],
   "source": [
    "plt.show()"
   ]
  },
  {
   "cell_type": "code",
   "execution_count": null,
   "id": "a2afdb0a",
   "metadata": {},
   "outputs": [],
   "source": []
  }
 ],
 "metadata": {
  "language_info": {
   "name": "python"
  }
 },
 "nbformat": 4,
 "nbformat_minor": 5
}
