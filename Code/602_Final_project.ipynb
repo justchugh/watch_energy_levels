{
 "cells": [
  {
   "cell_type": "code",
   "execution_count": null,
   "id": "557e57d2",
   "metadata": {},
   "outputs": [],
   "source": [
    "# Mounting"
   ]
  },
  {
   "cell_type": "code",
   "execution_count": null,
   "id": "67ab725f",
   "metadata": {},
   "outputs": [],
   "source": [
    "from google.colab import drive"
   ]
  },
  {
   "cell_type": "code",
   "execution_count": null,
   "id": "bbdb4fea",
   "metadata": {},
   "outputs": [],
   "source": [
    "drive.mount('/content/drive')"
   ]
  },
  {
   "cell_type": "code",
   "execution_count": null,
   "id": "58e601da",
   "metadata": {},
   "outputs": [],
   "source": [
    "%cd /content/drive/MyDrive/602/3"
   ]
  },
  {
   "cell_type": "code",
   "execution_count": null,
   "id": "e2ec5b9e",
   "metadata": {},
   "outputs": [],
   "source": []
  },
  {
   "cell_type": "code",
   "execution_count": null,
   "id": "8247df89",
   "metadata": {},
   "outputs": [],
   "source": [
    "# Importing Libraries"
   ]
  },
  {
   "cell_type": "code",
   "execution_count": null,
   "id": "35b3197c",
   "metadata": {},
   "outputs": [],
   "source": [
    "import pandas as pd"
   ]
  },
  {
   "cell_type": "code",
   "execution_count": null,
   "id": "a1a0705b",
   "metadata": {},
   "outputs": [],
   "source": [
    "import numpy as np"
   ]
  },
  {
   "cell_type": "code",
   "execution_count": null,
   "id": "9a60c516",
   "metadata": {},
   "outputs": [],
   "source": [
    "import matplotlib.pyplot as plt"
   ]
  },
  {
   "cell_type": "code",
   "execution_count": null,
   "id": "890bc749",
   "metadata": {},
   "outputs": [],
   "source": [
    "import seaborn as sns"
   ]
  },
  {
   "cell_type": "code",
   "execution_count": null,
   "id": "775e3cb9",
   "metadata": {},
   "outputs": [],
   "source": [
    "from sklearn.impute import KNNImputer"
   ]
  },
  {
   "cell_type": "code",
   "execution_count": null,
   "id": "32854839",
   "metadata": {},
   "outputs": [],
   "source": [
    "from sklearn.ensemble import IsolationForest"
   ]
  },
  {
   "cell_type": "code",
   "execution_count": null,
   "id": "04c10594",
   "metadata": {},
   "outputs": [],
   "source": [
    "from sklearn.preprocessing import RobustScaler, StandardScaler"
   ]
  },
  {
   "cell_type": "code",
   "execution_count": null,
   "id": "7f6e80eb",
   "metadata": {},
   "outputs": [],
   "source": [
    "from sklearn.linear_model import LinearRegression"
   ]
  },
  {
   "cell_type": "code",
   "execution_count": null,
   "id": "90cd8012",
   "metadata": {},
   "outputs": [],
   "source": [
    "from sklearn.decomposition import PCA"
   ]
  },
  {
   "cell_type": "code",
   "execution_count": null,
   "id": "549837a1",
   "metadata": {},
   "outputs": [],
   "source": [
    "from sklearn.cluster import KMeans"
   ]
  },
  {
   "cell_type": "code",
   "execution_count": null,
   "id": "e1471e92",
   "metadata": {},
   "outputs": [],
   "source": [
    "from sklearn.model_selection import train_test_split, cross_val_score"
   ]
  },
  {
   "cell_type": "code",
   "execution_count": null,
   "id": "82d5c299",
   "metadata": {},
   "outputs": [],
   "source": [
    "from sklearn.ensemble import RandomForestRegressor, GradientBoostingRegressor"
   ]
  },
  {
   "cell_type": "code",
   "execution_count": null,
   "id": "8166ccca",
   "metadata": {},
   "outputs": [],
   "source": [
    "from sklearn.metrics import mean_absolute_error, mean_squared_error, r2_score"
   ]
  },
  {
   "cell_type": "code",
   "execution_count": null,
   "id": "394ac762",
   "metadata": {},
   "outputs": [],
   "source": [
    "from sklearn.neural_network import MLPRegressor"
   ]
  },
  {
   "cell_type": "code",
   "execution_count": null,
   "id": "12943b0e",
   "metadata": {},
   "outputs": [],
   "source": []
  },
  {
   "cell_type": "code",
   "execution_count": null,
   "id": "407be271",
   "metadata": {},
   "outputs": [],
   "source": [
    "file_path = 'apple_watch_data.csv'"
   ]
  },
  {
   "cell_type": "code",
   "execution_count": null,
   "id": "c3987675",
   "metadata": {},
   "outputs": [],
   "source": [
    "df = pd.read_csv(file_path)"
   ]
  },
  {
   "cell_type": "code",
   "execution_count": null,
   "id": "ed728125",
   "metadata": {},
   "outputs": [],
   "source": []
  },
  {
   "cell_type": "code",
   "execution_count": null,
   "id": "2a374be2",
   "metadata": {},
   "outputs": [],
   "source": [
    "# Understanding Data"
   ]
  },
  {
   "cell_type": "code",
   "execution_count": null,
   "id": "b0b85dc5",
   "metadata": {},
   "outputs": [],
   "source": [
    "df.head(5)"
   ]
  },
  {
   "cell_type": "code",
   "execution_count": null,
   "id": "0e7d3431",
   "metadata": {},
   "outputs": [],
   "source": [
    "print(\"Dataset Head:\")"
   ]
  },
  {
   "cell_type": "code",
   "execution_count": null,
   "id": "cbb743cb",
   "metadata": {},
   "outputs": [],
   "source": [
    "print(df.head())"
   ]
  },
  {
   "cell_type": "code",
   "execution_count": null,
   "id": "a23baee7",
   "metadata": {},
   "outputs": [],
   "source": [
    "print(\"\\nDataset Info:\")"
   ]
  },
  {
   "cell_type": "code",
   "execution_count": null,
   "id": "ea0a575c",
   "metadata": {},
   "outputs": [],
   "source": [
    "print(df.info())"
   ]
  },
  {
   "cell_type": "code",
   "execution_count": null,
   "id": "51644bdf",
   "metadata": {},
   "outputs": [],
   "source": [
    "print(\"\\nDescriptive Statistics:\")"
   ]
  },
  {
   "cell_type": "code",
   "execution_count": null,
   "id": "7d0483ba",
   "metadata": {},
   "outputs": [],
   "source": [
    "print(df.describe())"
   ]
  },
  {
   "cell_type": "code",
   "execution_count": null,
   "id": "b3bbbb55",
   "metadata": {},
   "outputs": [],
   "source": [
    "print(\"\\nMissing Values Initially:\")"
   ]
  },
  {
   "cell_type": "code",
   "execution_count": null,
   "id": "710ef026",
   "metadata": {},
   "outputs": [],
   "source": [
    "print(df.isnull().sum())"
   ]
  },
  {
   "cell_type": "code",
   "execution_count": null,
   "id": "35a77a97",
   "metadata": {},
   "outputs": [],
   "source": []
  },
  {
   "cell_type": "code",
   "execution_count": null,
   "id": "1906a748",
   "metadata": {},
   "outputs": [],
   "source": [
    "# Cleaning Missing Values"
   ]
  },
  {
   "cell_type": "code",
   "execution_count": null,
   "id": "6ea190b1",
   "metadata": {},
   "outputs": [],
   "source": [
    "df = df.rename(columns={"
   ]
  },
  {
   "cell_type": "code",
   "execution_count": null,
   "id": "61436cce",
   "metadata": {},
   "outputs": [],
   "source": [
    "    'hear_rate': 'heart_rate',"
   ]
  },
  {
   "cell_type": "code",
   "execution_count": null,
   "id": "5a447189",
   "metadata": {},
   "outputs": [],
   "source": [
    "    'entropy_setps': 'entropy_steps'"
   ]
  },
  {
   "cell_type": "code",
   "execution_count": null,
   "id": "3afb5fdd",
   "metadata": {},
   "outputs": [],
   "source": [
    "})"
   ]
  },
  {
   "cell_type": "code",
   "execution_count": null,
   "id": "513e0216",
   "metadata": {},
   "outputs": [],
   "source": [
    "knn_imputer = KNNImputer(n_neighbors=5)"
   ]
  },
  {
   "cell_type": "code",
   "execution_count": null,
   "id": "facc585d",
   "metadata": {},
   "outputs": [],
   "source": [
    "df[['steps', 'calories', 'distance']] = knn_imputer.fit_transform(df[['steps', 'calories', 'distance']])"
   ]
  },
  {
   "cell_type": "code",
   "execution_count": null,
   "id": "22f56e94",
   "metadata": {},
   "outputs": [],
   "source": [
    "df['heart_rate'] = df['heart_rate'].fillna(method='ffill')"
   ]
  },
  {
   "cell_type": "code",
   "execution_count": null,
   "id": "e189cfca",
   "metadata": {},
   "outputs": [],
   "source": [
    "print(\"\\nMissing Values After Cleaning:\")"
   ]
  },
  {
   "cell_type": "code",
   "execution_count": null,
   "id": "a9a34769",
   "metadata": {},
   "outputs": [],
   "source": [
    "print(df.isnull().sum())"
   ]
  },
  {
   "cell_type": "code",
   "execution_count": null,
   "id": "f49055c8",
   "metadata": {},
   "outputs": [],
   "source": []
  },
  {
   "cell_type": "code",
   "execution_count": null,
   "id": "1f37d6d6",
   "metadata": {},
   "outputs": [],
   "source": [
    "# Handling Outliers and Invalid Entries"
   ]
  },
  {
   "cell_type": "code",
   "execution_count": null,
   "id": "cf98f41b",
   "metadata": {},
   "outputs": [],
   "source": [
    "df['heart_rate'] = pd.to_numeric(df['heart_rate'], errors='coerce')"
   ]
  },
  {
   "cell_type": "code",
   "execution_count": null,
   "id": "98dc4936",
   "metadata": {},
   "outputs": [],
   "source": [
    "df.dropna(subset=['heart_rate', 'steps', 'calories', 'distance'], inplace=True)"
   ]
  },
  {
   "cell_type": "code",
   "execution_count": null,
   "id": "03cf3cb1",
   "metadata": {},
   "outputs": [],
   "source": [
    "scaler = RobustScaler()"
   ]
  },
  {
   "cell_type": "code",
   "execution_count": null,
   "id": "4f65d191",
   "metadata": {},
   "outputs": [],
   "source": [
    "scaled_columns = ['heart_rate', 'steps', 'calories', 'distance']"
   ]
  },
  {
   "cell_type": "code",
   "execution_count": null,
   "id": "4ab609ef",
   "metadata": {},
   "outputs": [],
   "source": [
    "df_scaled = scaler.fit_transform(df[scaled_columns])"
   ]
  },
  {
   "cell_type": "code",
   "execution_count": null,
   "id": "f8298c34",
   "metadata": {},
   "outputs": [],
   "source": [
    "df_scaled = pd.DataFrame(df_scaled, columns=scaled_columns)"
   ]
  },
  {
   "cell_type": "code",
   "execution_count": null,
   "id": "bfcb1656",
   "metadata": {},
   "outputs": [],
   "source": []
  },
  {
   "cell_type": "code",
   "execution_count": null,
   "id": "5a7ad112",
   "metadata": {},
   "outputs": [],
   "source": [
    "iso_forest = IsolationForest(n_estimators=100, contamination=0.05)"
   ]
  },
  {
   "cell_type": "code",
   "execution_count": null,
   "id": "e410c8c8",
   "metadata": {},
   "outputs": [],
   "source": [
    "outliers = iso_forest.fit_predict(df_scaled)"
   ]
  },
  {
   "cell_type": "code",
   "execution_count": null,
   "id": "12c17d00",
   "metadata": {},
   "outputs": [],
   "source": [
    "df['outlier'] = outliers"
   ]
  },
  {
   "cell_type": "code",
   "execution_count": null,
   "id": "162473da",
   "metadata": {},
   "outputs": [],
   "source": [
    "df_cleaned = df[df['outlier'] != -1]"
   ]
  },
  {
   "cell_type": "code",
   "execution_count": null,
   "id": "9ea97b13",
   "metadata": {},
   "outputs": [],
   "source": []
  },
  {
   "cell_type": "code",
   "execution_count": null,
   "id": "37d9e3ca",
   "metadata": {},
   "outputs": [],
   "source": [
    "# Visualizing Data"
   ]
  },
  {
   "cell_type": "code",
   "execution_count": null,
   "id": "c0900baf",
   "metadata": {},
   "outputs": [],
   "source": [
    "fig, axes = plt.subplots(nrows=4, ncols=2, figsize=(12, 20))"
   ]
  },
  {
   "cell_type": "code",
   "execution_count": null,
   "id": "d6ceb634",
   "metadata": {},
   "outputs": [],
   "source": [
    "axes = axes.flatten()"
   ]
  },
  {
   "cell_type": "code",
   "execution_count": null,
   "id": "5213b4cf",
   "metadata": {},
   "outputs": [],
   "source": [
    "for i, col in enumerate(scaled_columns):"
   ]
  },
  {
   "cell_type": "code",
   "execution_count": null,
   "id": "41143531",
   "metadata": {},
   "outputs": [],
   "source": [
    "    sns.boxplot(x=df[col], ax=axes[2*i])"
   ]
  },
  {
   "cell_type": "code",
   "execution_count": null,
   "id": "f9cfe1ae",
   "metadata": {},
   "outputs": [],
   "source": [
    "    sns.boxplot(x=df_cleaned[col], ax=axes[2*i + 1])"
   ]
  },
  {
   "cell_type": "code",
   "execution_count": null,
   "id": "86ae6b83",
   "metadata": {},
   "outputs": [],
   "source": [
    "plt.tight_layout()"
   ]
  },
  {
   "cell_type": "code",
   "execution_count": null,
   "id": "41a14316",
   "metadata": {},
   "outputs": [],
   "source": [
    "plt.show()"
   ]
  },
  {
   "cell_type": "code",
   "execution_count": null,
   "id": "e3171ddb",
   "metadata": {},
   "outputs": [],
   "source": []
  },
  {
   "cell_type": "code",
   "execution_count": null,
   "id": "56bf38c5",
   "metadata": {},
   "outputs": [],
   "source": [
    "plt.figure(figsize=(8, 4))"
   ]
  },
  {
   "cell_type": "code",
   "execution_count": null,
   "id": "38bfa6de",
   "metadata": {},
   "outputs": [],
   "source": [
    "sns.histplot(df['heart_rate'].dropna(), kde=True)"
   ]
  },
  {
   "cell_type": "code",
   "execution_count": null,
   "id": "a98d4b38",
   "metadata": {},
   "outputs": [],
   "source": [
    "plt.show()"
   ]
  },
  {
   "cell_type": "code",
   "execution_count": null,
   "id": "8aa32139",
   "metadata": {},
   "outputs": [],
   "source": []
  },
  {
   "cell_type": "code",
   "execution_count": null,
   "id": "8d7ea4ef",
   "metadata": {},
   "outputs": [],
   "source": [
    "if df['heart_rate'].isnull().any():"
   ]
  },
  {
   "cell_type": "code",
   "execution_count": null,
   "id": "ed03610f",
   "metadata": {},
   "outputs": [],
   "source": [
    "    model = LinearRegression()"
   ]
  },
  {
   "cell_type": "code",
   "execution_count": null,
   "id": "e3b28584",
   "metadata": {},
   "outputs": [],
   "source": [
    "    train_df = df.dropna(subset=['heart_rate'])"
   ]
  },
  {
   "cell_type": "code",
   "execution_count": null,
   "id": "48bd9bcc",
   "metadata": {},
   "outputs": [],
   "source": [
    "    X_train = train_df[['age', 'weight', 'steps']]"
   ]
  },
  {
   "cell_type": "code",
   "execution_count": null,
   "id": "7f035ed5",
   "metadata": {},
   "outputs": [],
   "source": [
    "    y_train = train_df['heart_rate']"
   ]
  },
  {
   "cell_type": "code",
   "execution_count": null,
   "id": "1bae05b1",
   "metadata": {},
   "outputs": [],
   "source": [
    "    model.fit(X_train, y_train)"
   ]
  },
  {
   "cell_type": "code",
   "execution_count": null,
   "id": "33f88f25",
   "metadata": {},
   "outputs": [],
   "source": [
    "    missing_values = df[df['heart_rate'].isnull()]"
   ]
  },
  {
   "cell_type": "code",
   "execution_count": null,
   "id": "94f296f0",
   "metadata": {},
   "outputs": [],
   "source": [
    "    X_missing = missing_values[['age', 'weight', 'steps']]"
   ]
  },
  {
   "cell_type": "code",
   "execution_count": null,
   "id": "06866cc6",
   "metadata": {},
   "outputs": [],
   "source": [
    "    if not X_missing.empty:"
   ]
  },
  {
   "cell_type": "code",
   "execution_count": null,
   "id": "7d962a2d",
   "metadata": {},
   "outputs": [],
   "source": [
    "        predicted_values = model.predict(X_missing)"
   ]
  },
  {
   "cell_type": "code",
   "execution_count": null,
   "id": "188c47fb",
   "metadata": {},
   "outputs": [],
   "source": [
    "        df.loc[df['heart_rate'].isnull(), 'heart_rate'] = predicted_values"
   ]
  },
  {
   "cell_type": "code",
   "execution_count": null,
   "id": "0b189ef0",
   "metadata": {},
   "outputs": [],
   "source": []
  },
  {
   "cell_type": "code",
   "execution_count": null,
   "id": "581b46d7",
   "metadata": {},
   "outputs": [],
   "source": [
    "plt.figure(figsize=(8, 4))"
   ]
  },
  {
   "cell_type": "code",
   "execution_count": null,
   "id": "c86ec137",
   "metadata": {},
   "outputs": [],
   "source": [
    "sns.boxplot(x=df['heart_rate'])"
   ]
  },
  {
   "cell_type": "code",
   "execution_count": null,
   "id": "04523b29",
   "metadata": {},
   "outputs": [],
   "source": [
    "plt.show()"
   ]
  },
  {
   "cell_type": "code",
   "execution_count": null,
   "id": "7255dd5f",
   "metadata": {},
   "outputs": [],
   "source": []
  },
  {
   "cell_type": "code",
   "execution_count": null,
   "id": "bc7bcfa2",
   "metadata": {},
   "outputs": [],
   "source": [
    "df['heart_rate'] = df['heart_rate'].apply(lambda x: abs(x) if x < 0 else x)"
   ]
  },
  {
   "cell_type": "code",
   "execution_count": null,
   "id": "f6cea12f",
   "metadata": {},
   "outputs": [],
   "source": [
    "plt.figure(figsize=(8, 4))"
   ]
  },
  {
   "cell_type": "code",
   "execution_count": null,
   "id": "62a22ade",
   "metadata": {},
   "outputs": [],
   "source": [
    "sns.boxplot(x=df['heart_rate'])"
   ]
  }
 ],
 "metadata": {},
 "nbformat": 4,
 "nbformat_minor": 5
}
