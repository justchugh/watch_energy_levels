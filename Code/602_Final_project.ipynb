{
 "cells": [
  {
   "cell_type": "code",
   "execution_count": null,
   "id": "f3481f3c",
   "metadata": {},
   "outputs": [],
   "source": [
    "# Model Selection"
   ]
  },
  {
   "cell_type": "code",
   "execution_count": null,
   "id": "d1aabd04",
   "metadata": {},
   "outputs": [],
   "source": [
    "# Load the clustered data"
   ]
  },
  {
   "cell_type": "code",
   "execution_count": null,
   "id": "8077c621",
   "metadata": {},
   "outputs": [],
   "source": [
    "file_path = 'clustered_data.csv'"
   ]
  },
  {
   "cell_type": "code",
   "execution_count": null,
   "id": "dc0bb7d5",
   "metadata": {},
   "outputs": [],
   "source": [
    "df = pd.read_csv(file_path)"
   ]
  },
  {
   "cell_type": "code",
   "execution_count": null,
   "id": "0569a332",
   "metadata": {},
   "outputs": [],
   "source": []
  },
  {
   "cell_type": "code",
   "execution_count": null,
   "id": "f524ba3c",
   "metadata": {},
   "outputs": [],
   "source": [
    "# Define features and target"
   ]
  },
  {
   "cell_type": "code",
   "execution_count": null,
   "id": "6498ff67",
   "metadata": {},
   "outputs": [],
   "source": [
    "features = ['Principal Component 1', 'Principal Component 2', 'Principal Component 3', 'Principal Component 4']"
   ]
  },
  {
   "cell_type": "code",
   "execution_count": null,
   "id": "bbbd4c85",
   "metadata": {},
   "outputs": [],
   "source": [
    "target = 'energy_level'"
   ]
  },
  {
   "cell_type": "code",
   "execution_count": null,
   "id": "2f57bd0f",
   "metadata": {},
   "outputs": [],
   "source": []
  },
  {
   "cell_type": "code",
   "execution_count": null,
   "id": "3c875978",
   "metadata": {},
   "outputs": [],
   "source": [
    "X = df[features]"
   ]
  },
  {
   "cell_type": "code",
   "execution_count": null,
   "id": "82b10400",
   "metadata": {},
   "outputs": [],
   "source": [
    "y = df[target]"
   ]
  },
  {
   "cell_type": "code",
   "execution_count": null,
   "id": "7dd3c729",
   "metadata": {},
   "outputs": [],
   "source": []
  },
  {
   "cell_type": "code",
   "execution_count": null,
   "id": "c913cfc3",
   "metadata": {},
   "outputs": [],
   "source": [
    "# Split the data"
   ]
  },
  {
   "cell_type": "code",
   "execution_count": null,
   "id": "52335d27",
   "metadata": {},
   "outputs": [],
   "source": [
    "X_train, X_test, y_train, y_test = train_test_split(X, y, test_size=0.2, random_state=42)"
   ]
  },
  {
   "cell_type": "code",
   "execution_count": null,
   "id": "a3e0f7f7",
   "metadata": {},
   "outputs": [],
   "source": [
    "# Function to evaluate models"
   ]
  },
  {
   "cell_type": "code",
   "execution_count": null,
   "id": "58e00f63",
   "metadata": {},
   "outputs": [],
   "source": [
    "def evaluate_model(model, X_train, X_test, y_train, y_test):"
   ]
  },
  {
   "cell_type": "code",
   "execution_count": null,
   "id": "39fcd973",
   "metadata": {},
   "outputs": [],
   "source": [
    "    model.fit(X_train, y_train)"
   ]
  },
  {
   "cell_type": "code",
   "execution_count": null,
   "id": "8d455e2d",
   "metadata": {},
   "outputs": [],
   "source": [
    "    y_pred = model.predict(X_test)"
   ]
  },
  {
   "cell_type": "code",
   "execution_count": null,
   "id": "926f759e",
   "metadata": {},
   "outputs": [],
   "source": [
    "    mae = mean_absolute_error(y_test, y_pred)"
   ]
  },
  {
   "cell_type": "code",
   "execution_count": null,
   "id": "44f0e9fd",
   "metadata": {},
   "outputs": [],
   "source": [
    "    mse = mean_squared_error(y_test, y_pred)"
   ]
  },
  {
   "cell_type": "code",
   "execution_count": null,
   "id": "27c39c38",
   "metadata": {},
   "outputs": [],
   "source": [
    "    r2 = r2_score(y_test, y_pred)"
   ]
  },
  {
   "cell_type": "code",
   "execution_count": null,
   "id": "650253f7",
   "metadata": {},
   "outputs": [],
   "source": [
    "    return {'MAE': mae, 'MSE': mse, 'R2': r2}"
   ]
  },
  {
   "cell_type": "code",
   "execution_count": null,
   "id": "b9c8f8f4",
   "metadata": {},
   "outputs": [],
   "source": [
    "## Evaluate Models"
   ]
  },
  {
   "cell_type": "code",
   "execution_count": null,
   "id": "aabb4374",
   "metadata": {},
   "outputs": [],
   "source": [
    "# Models to evaluate"
   ]
  },
  {
   "cell_type": "code",
   "execution_count": null,
   "id": "569bd08a",
   "metadata": {},
   "outputs": [],
   "source": [
    "models = {"
   ]
  },
  {
   "cell_type": "code",
   "execution_count": null,
   "id": "1851d328",
   "metadata": {},
   "outputs": [],
   "source": [
    "    'Random Forest': RandomForestRegressor(n_estimators=100, random_state=42),"
   ]
  },
  {
   "cell_type": "code",
   "execution_count": null,
   "id": "198088fc",
   "metadata": {},
   "outputs": [],
   "source": [
    "    'Gradient Boosting': GradientBoostingRegressor(n_estimators=100, random_state=42),"
   ]
  },
  {
   "cell_type": "code",
   "execution_count": null,
   "id": "7c88878c",
   "metadata": {},
   "outputs": [],
   "source": [
    "    'Neural Network': MLPRegressor(hidden_layer_sizes=(50, 50), max_iter=500, random_state=42)"
   ]
  },
  {
   "cell_type": "code",
   "execution_count": null,
   "id": "e8bd0dff",
   "metadata": {},
   "outputs": [],
   "source": [
    "}"
   ]
  },
  {
   "cell_type": "code",
   "execution_count": null,
   "id": "bb2347e5",
   "metadata": {},
   "outputs": [],
   "source": [
    "results = {}"
   ]
  },
  {
   "cell_type": "code",
   "execution_count": null,
   "id": "cf8ff9e1",
   "metadata": {},
   "outputs": [],
   "source": [
    "for name, model in models.items():"
   ]
  },
  {
   "cell_type": "code",
   "execution_count": null,
   "id": "c93b94c8",
   "metadata": {},
   "outputs": [],
   "source": [
    "    results[name] = evaluate_model(model, X_train, X_test, y_train, y_test)"
   ]
  },
  {
   "cell_type": "code",
   "execution_count": null,
   "id": "d8439b2d",
   "metadata": {},
   "outputs": [],
   "source": [
    "    print(f\"{name} - MAE: {results[name]['MAE']}, MSE: {results[name]['MSE']}, R2: {results[name]['R2']}\")"
   ]
  },
  {
   "cell_type": "code",
   "execution_count": null,
   "id": "a895839c",
   "metadata": {},
   "outputs": [],
   "source": [
    "# Cross-validation"
   ]
  },
  {
   "cell_type": "code",
   "execution_count": null,
   "id": "cb18b940",
   "metadata": {},
   "outputs": [],
   "source": [
    "for name, model in models.items():"
   ]
  },
  {
   "cell_type": "code",
   "execution_count": null,
   "id": "3adbd349",
   "metadata": {},
   "outputs": [],
   "source": [
    "    cv_scores = cross_val_score(model, X, y, cv=5, scoring='r2')"
   ]
  },
  {
   "cell_type": "code",
   "execution_count": null,
   "id": "8080d48b",
   "metadata": {},
   "outputs": [],
   "source": [
    "    print(f\"{name} - Cross-Validated R-squared: {cv_scores.mean()}\")"
   ]
  },
  {
   "cell_type": "code",
   "execution_count": null,
   "id": "c2db7a80",
   "metadata": {},
   "outputs": [],
   "source": [
    "# Save the results"
   ]
  },
  {
   "cell_type": "code",
   "execution_count": null,
   "id": "98d8b4d3",
   "metadata": {},
   "outputs": [],
   "source": [
    "results_df = pd.DataFrame(results).T"
   ]
  },
  {
   "cell_type": "code",
   "execution_count": null,
   "id": "0a691fb5",
   "metadata": {},
   "outputs": [],
   "source": [
    "results_df.to_csv('model_evaluation_results.csv')"
   ]
  },
  {
   "cell_type": "code",
   "execution_count": null,
   "id": "2849cdba",
   "metadata": {},
   "outputs": [],
   "source": [
    "print(\"Model evaluation results saved to 'model_evaluation_results.csv'\")"
   ]
  },
  {
   "cell_type": "code",
   "execution_count": null,
   "id": "e392b5a7",
   "metadata": {},
   "outputs": [],
   "source": []
  },
  {
   "cell_type": "code",
   "execution_count": null,
   "id": "90bf0980",
   "metadata": {},
   "outputs": [],
   "source": []
  },
  {
   "cell_type": "code",
   "execution_count": null,
   "id": "d1d93867",
   "metadata": {},
   "outputs": [],
   "source": [
    "## Trying extra Trees Regressor"
   ]
  },
  {
   "cell_type": "code",
   "execution_count": null,
   "id": "67e59de3",
   "metadata": {},
   "outputs": [],
   "source": [
    "from sklearn.preprocessing import StandardScaler"
   ]
  },
  {
   "cell_type": "code",
   "execution_count": null,
   "id": "6b7f6b70",
   "metadata": {},
   "outputs": [],
   "source": [
    "from sklearn.ensemble import ExtraTreesRegressor"
   ]
  },
  {
   "cell_type": "code",
   "execution_count": null,
   "id": "3da10ef9",
   "metadata": {},
   "outputs": [],
   "source": [
    "import numpy as np"
   ]
  },
  {
   "cell_type": "code",
   "execution_count": null,
   "id": "e2d7f233",
   "metadata": {},
   "outputs": [],
   "source": [
    "from sklearn.metrics import mean_absolute_error, mean_squared_error, r2_score"
   ]
  },
  {
   "cell_type": "code",
   "execution_count": null,
   "id": "12eb0db8",
   "metadata": {},
   "outputs": [],
   "source": []
  },
  {
   "cell_type": "code",
   "execution_count": null,
   "id": "0985d19e",
   "metadata": {},
   "outputs": [],
   "source": [
    "# Assuming you want to scale the target variable"
   ]
  },
  {
   "cell_type": "code",
   "execution_count": null,
   "id": "4afd99b8",
   "metadata": {},
   "outputs": [],
   "source": [
    "scaler_y = StandardScaler()"
   ]
  },
  {
   "cell_type": "code",
   "execution_count": null,
   "id": "fd6bcad2",
   "metadata": {},
   "outputs": [],
   "source": [
    "y_train_scaled = scaler_y.fit_transform(y_train.reshape(-1, 1)).flatten()"
   ]
  },
  {
   "cell_type": "code",
   "execution_count": null,
   "id": "2f787774",
   "metadata": {},
   "outputs": [],
   "source": [
    "y_test_scaled = scaler_y.transform(y_test.reshape(-1, 1)).flatten()"
   ]
  },
  {
   "cell_type": "code",
   "execution_count": null,
   "id": "03186fdd",
   "metadata": {},
   "outputs": [],
   "source": []
  },
  {
   "cell_type": "code",
   "execution_count": null,
   "id": "83abdfd9",
   "metadata": {},
   "outputs": [],
   "source": [
    "def evaluate_model(model, X_train, X_test, y_train_scaled, y_test_scaled, scaler_y=None):"
   ]
  },
  {
   "cell_type": "code",
   "execution_count": null,
   "id": "c363ba77",
   "metadata": {},
   "outputs": [],
   "source": [
    "    model.fit(X_train, y_train_scaled)"
   ]
  },
  {
   "cell_type": "code",
   "execution_count": null,
   "id": "c8ebac46",
   "metadata": {},
   "outputs": [],
   "source": [
    "    y_pred_scaled = model.predict(X_test)"
   ]
  },
  {
   "cell_type": "code",
   "execution_count": null,
   "id": "4097c645",
   "metadata": {},
   "outputs": [],
   "source": [
    "    if scaler_y:"
   ]
  },
  {
   "cell_type": "code",
   "execution_count": null,
   "id": "885e1dc0",
   "metadata": {},
   "outputs": [],
   "source": [
    "        y_pred = scaler_y.inverse_transform(y_pred_scaled.reshape(-1, 1)).flatten()"
   ]
  },
  {
   "cell_type": "code",
   "execution_count": null,
   "id": "c7eec3b1",
   "metadata": {},
   "outputs": [],
   "source": [
    "    else:"
   ]
  },
  {
   "cell_type": "code",
   "execution_count": null,
   "id": "a88a3812",
   "metadata": {},
   "outputs": [],
   "source": [
    "        y_pred = y_pred_scaled"
   ]
  },
  {
   "cell_type": "code",
   "execution_count": null,
   "id": "92faafab",
   "metadata": {},
   "outputs": [],
   "source": [
    "    mae = mean_absolute_error(y_test, y_pred)"
   ]
  },
  {
   "cell_type": "code",
   "execution_count": null,
   "id": "96785a3a",
   "metadata": {},
   "outputs": [],
   "source": [
    "    mse = mean_squared_error(y_test, y_pred)"
   ]
  },
  {
   "cell_type": "code",
   "execution_count": null,
   "id": "490c62bd",
   "metadata": {},
   "outputs": [],
   "source": [
    "    r2 = r2_score(y_test, y_pred)"
   ]
  },
  {
   "cell_type": "code",
   "execution_count": null,
   "id": "734ff0e4",
   "metadata": {},
   "outputs": [],
   "source": [
    "    return mae, mse, r2"
   ]
  },
  {
   "cell_type": "code",
   "execution_count": null,
   "id": "3e1f2dba",
   "metadata": {},
   "outputs": [],
   "source": []
  },
  {
   "cell_type": "code",
   "execution_count": null,
   "id": "8ca2e1c6",
   "metadata": {},
   "outputs": [],
   "source": [
    "# Usage with Extra Trees Regressor"
   ]
  },
  {
   "cell_type": "code",
   "execution_count": null,
   "id": "f83d83a5",
   "metadata": {},
   "outputs": [],
   "source": [
    "et_model = ExtraTreesRegressor(n_estimators=100, random_state=42)"
   ]
  },
  {
   "cell_type": "code",
   "execution_count": null,
   "id": "4734f7da",
   "metadata": {},
   "outputs": [],
   "source": [
    "mae, mse, r2 = evaluate_model(et_model, X_train, X_test, y_train_scaled, y_test_scaled, scaler_y)"
   ]
  },
  {
   "cell_type": "code",
   "execution_count": null,
   "id": "e2985d06",
   "metadata": {},
   "outputs": [],
   "source": [
    "print(f\"Extra Trees - MAE: {mae}, MSE: {mse}, R2: {r2}\")"
   ]
  },
  {
   "cell_type": "code",
   "execution_count": null,
   "id": "119cf127",
   "metadata": {},
   "outputs": [],
   "source": []
  },
  {
   "cell_type": "code",
   "execution_count": null,
   "id": "999f743e",
   "metadata": {},
   "outputs": [],
   "source": [
    "## Bagging Regressor"
   ]
  },
  {
   "cell_type": "code",
   "execution_count": null,
   "id": "44506e97",
   "metadata": {},
   "outputs": [],
   "source": [
    "from sklearn.ensemble import BaggingRegressor"
   ]
  },
  {
   "cell_type": "code",
   "execution_count": null,
   "id": "75de9cb4",
   "metadata": {},
   "outputs": [],
   "source": []
  },
  {
   "cell_type": "code",
   "execution_count": null,
   "id": "0273670b",
   "metadata": {},
   "outputs": [],
   "source": [
    "bg_model = BaggingRegressor(base_estimator=RandomForestRegressor(n_estimators=10, random_state=42), n_estimators=10, random_state=42)"
   ]
  },
  {
   "cell_type": "code",
   "execution_count": null,
   "id": "ed477163",
   "metadata": {},
   "outputs": [],
   "source": [
    "mae, mse, r2 = evaluate_model(bg_model, X_train, X_test, y_train, y_test)"
   ]
  },
  {
   "cell_type": "code",
   "execution_count": null,
   "id": "11eba51a",
   "metadata": {},
   "outputs": [],
   "source": [
    "print(f\"Bagging Regressor - MAE: {mae}, MSE: {mse}, R2: {r2}\")"
   ]
  },
  {
   "cell_type": "code",
   "execution_count": null,
   "id": "37b4b13e",
   "metadata": {},
   "outputs": [],
   "source": []
  },
  {
   "cell_type": "code",
   "execution_count": null,
   "id": "5503dabe",
   "metadata": {},
   "outputs": [],
   "source": [
    "# Cross-validation for Bagging Regressor"
   ]
  },
  {
   "cell_type": "code",
   "execution_count": null,
   "id": "3779c679",
   "metadata": {},
   "outputs": [],
   "source": [
    "bg_cv_scores = cross_val_score(bg_model, X, y, cv=5, scoring='r2')"
   ]
  }
 ],
 "metadata": {},
 "nbformat": 4,
 "nbformat_minor": 5
}
